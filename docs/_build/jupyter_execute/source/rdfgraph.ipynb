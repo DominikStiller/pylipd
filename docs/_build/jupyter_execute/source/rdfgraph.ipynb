{
 "cells": [
  {
   "cell_type": "code",
   "execution_count": 1,
   "id": "e507a7cc",
   "metadata": {
    "execution": {
     "iopub.execute_input": "2023-05-18T03:52:24.657952Z",
     "iopub.status.busy": "2023-05-18T03:52:24.657293Z",
     "iopub.status.idle": "2023-05-18T03:52:25.604399Z",
     "shell.execute_reply": "2023-05-18T03:52:25.603771Z"
    }
   },
   "outputs": [
    {
     "name": "stdout",
     "output_type": "stream",
     "text": [
      "                                                   s   \n",
      "0                          http://example.org/bob#me  \\\n",
      "1                          http://example.org/bob#me   \n",
      "2              http://www.wikidata.org/entity/Q12418   \n",
      "3                          http://example.org/bob#me   \n",
      "4                          http://example.org/bob#me   \n",
      "5  http://data.europeana.eu/item/04802/243FA86189...   \n",
      "6              http://www.wikidata.org/entity/Q12418   \n",
      "\n",
      "                                                 p   \n",
      "0         http://xmlns.com/foaf/0.1/topic_interest  \\\n",
      "1                      http://schema.org/birthDate   \n",
      "2                   http://purl.org/dc/terms/title   \n",
      "3  http://www.w3.org/1999/02/22-rdf-syntax-ns#type   \n",
      "4                  http://xmlns.com/foaf/0.1/knows   \n",
      "5                 http://purl.org/dc/terms/subject   \n",
      "6                 http://purl.org/dc/terms/creator   \n",
      "\n",
      "                                               o  \n",
      "0          http://www.wikidata.org/entity/Q12418  \n",
      "1                                     1990-07-04  \n",
      "2                                      Mona Lisa  \n",
      "3               http://xmlns.com/foaf/0.1/Person  \n",
      "4                    http://example.org/alice#me  \n",
      "5          http://www.wikidata.org/entity/Q12418  \n",
      "6  http://dbpedia.org/resource/Leonardo_da_Vinci  \n"
     ]
    }
   ],
   "source": [
    "from pylipd.utils.rdf_graph import RDFGraph\n",
    "\n",
    "# Load RDF file into graph\n",
    "rdf = RDFGraph()\n",
    "rdf.load([\"../examples/rdf/graph.ttl\"])\n",
    "(result, result_df) = rdf.query(\"SELECT ?s ?p ?o WHERE {?s ?p ?o} LIMIT 10\")\n",
    "print(result_df)"
   ]
  },
  {
   "cell_type": "code",
   "execution_count": 2,
   "id": "2ca2d6c2",
   "metadata": {
    "execution": {
     "iopub.execute_input": "2023-05-18T03:52:25.607575Z",
     "iopub.status.busy": "2023-05-18T03:52:25.607218Z",
     "iopub.status.idle": "2023-05-18T03:52:25.616866Z",
     "shell.execute_reply": "2023-05-18T03:52:25.616197Z"
    }
   },
   "outputs": [
    {
     "data": {
      "text/plain": [
       "<pylipd.utils.rdf_graph.RDFGraph at 0x117459000>"
      ]
     },
     "execution_count": 2,
     "metadata": {},
     "output_type": "execute_result"
    }
   ],
   "source": [
    "from pylipd.utils.rdf_graph import RDFGraph\n",
    "\n",
    "# Fetch RDF graph data for given id(s)\n",
    "rdf = RDFGraph()\n",
    "rdf.load([\"../examples/rdf/graph.ttl\"], graphid=\"http://example.org/graph\")\n",
    "rdf.get(\"http://example.org/graph\")"
   ]
  },
  {
   "cell_type": "code",
   "execution_count": 3,
   "id": "3c03d367",
   "metadata": {
    "execution": {
     "iopub.execute_input": "2023-05-18T03:52:25.619857Z",
     "iopub.status.busy": "2023-05-18T03:52:25.619545Z",
     "iopub.status.idle": "2023-05-18T03:52:25.625598Z",
     "shell.execute_reply": "2023-05-18T03:52:25.624989Z"
    }
   },
   "outputs": [
    {
     "name": "stdout",
     "output_type": "stream",
     "text": [
      "['http://example.org/graph']\n"
     ]
    }
   ],
   "source": [
    "from pylipd.utils.rdf_graph import RDFGraph\n",
    "\n",
    "# Fetch RDF Graph Data\n",
    "rdf = RDFGraph()\n",
    "rdf.load([\"../examples/rdf/graph.ttl\"], graphid=\"http://example.org/graph\")\n",
    "print(rdf.get_all_graph_ids())"
   ]
  },
  {
   "cell_type": "code",
   "execution_count": 4,
   "id": "c659ef57",
   "metadata": {
    "execution": {
     "iopub.execute_input": "2023-05-18T03:52:25.628462Z",
     "iopub.status.busy": "2023-05-18T03:52:25.628164Z",
     "iopub.status.idle": "2023-05-18T03:52:25.638377Z",
     "shell.execute_reply": "2023-05-18T03:52:25.637773Z"
    }
   },
   "outputs": [
    {
     "name": "stdout",
     "output_type": "stream",
     "text": [
      "                                                   s   \n",
      "0                          http://example.org/bob#me  \\\n",
      "1                          http://example.org/bob#me   \n",
      "2              http://www.wikidata.org/entity/Q12418   \n",
      "3                          http://example.org/bob#me   \n",
      "4                          http://example.org/bob#me   \n",
      "5  http://data.europeana.eu/item/04802/243FA86189...   \n",
      "6              http://www.wikidata.org/entity/Q12418   \n",
      "\n",
      "                                                 p   \n",
      "0         http://xmlns.com/foaf/0.1/topic_interest  \\\n",
      "1                      http://schema.org/birthDate   \n",
      "2                   http://purl.org/dc/terms/title   \n",
      "3  http://www.w3.org/1999/02/22-rdf-syntax-ns#type   \n",
      "4                  http://xmlns.com/foaf/0.1/knows   \n",
      "5                 http://purl.org/dc/terms/subject   \n",
      "6                 http://purl.org/dc/terms/creator   \n",
      "\n",
      "                                               o  \n",
      "0          http://www.wikidata.org/entity/Q12418  \n",
      "1                                     1990-07-04  \n",
      "2                                      Mona Lisa  \n",
      "3               http://xmlns.com/foaf/0.1/Person  \n",
      "4                    http://example.org/alice#me  \n",
      "5          http://www.wikidata.org/entity/Q12418  \n",
      "6  http://dbpedia.org/resource/Leonardo_da_Vinci  \n"
     ]
    }
   ],
   "source": [
    "from pylipd.utils.rdf_graph import RDFGraph\n",
    "\n",
    "# Load RDF file into graph\n",
    "rdf = RDFGraph()\n",
    "rdf.load([\"../examples/rdf/graph.ttl\"])\n",
    "(result, result_df) = rdf.query(\"SELECT ?s ?p ?o WHERE {?s ?p ?o} LIMIT 10\")\n",
    "print(result_df)"
   ]
  },
  {
   "cell_type": "code",
   "execution_count": 5,
   "id": "009d2dff",
   "metadata": {
    "execution": {
     "iopub.execute_input": "2023-05-18T03:52:25.641486Z",
     "iopub.status.busy": "2023-05-18T03:52:25.641129Z",
     "iopub.status.idle": "2023-05-18T03:52:25.647923Z",
     "shell.execute_reply": "2023-05-18T03:52:25.647373Z"
    }
   },
   "outputs": [],
   "source": [
    "from pylipd.utils.rdf_graph import RDFGraph\n",
    "\n",
    "# Pop RDF graph data for given id(s)\n",
    "rdf = RDFGraph()\n",
    "rdf.load([\"../examples/rdf/graph.ttl\"], graphid=\"http://example.org/graph\")\n",
    "popped = rdf.pop(\"http://example.org/graph\")"
   ]
  },
  {
   "cell_type": "code",
   "execution_count": 6,
   "id": "c87630e0",
   "metadata": {
    "execution": {
     "iopub.execute_input": "2023-05-18T03:52:25.651312Z",
     "iopub.status.busy": "2023-05-18T03:52:25.651045Z",
     "iopub.status.idle": "2023-05-18T03:52:25.663155Z",
     "shell.execute_reply": "2023-05-18T03:52:25.662447Z"
    }
   },
   "outputs": [
    {
     "name": "stdout",
     "output_type": "stream",
     "text": [
      "                                                   s   \n",
      "0                          http://example.org/bob#me  \\\n",
      "1                          http://example.org/bob#me   \n",
      "2              http://www.wikidata.org/entity/Q12418   \n",
      "3                          http://example.org/bob#me   \n",
      "4                          http://example.org/bob#me   \n",
      "5  http://data.europeana.eu/item/04802/243FA86189...   \n",
      "6              http://www.wikidata.org/entity/Q12418   \n",
      "\n",
      "                                                 p   \n",
      "0         http://xmlns.com/foaf/0.1/topic_interest  \\\n",
      "1                      http://schema.org/birthDate   \n",
      "2                   http://purl.org/dc/terms/title   \n",
      "3  http://www.w3.org/1999/02/22-rdf-syntax-ns#type   \n",
      "4                  http://xmlns.com/foaf/0.1/knows   \n",
      "5                 http://purl.org/dc/terms/subject   \n",
      "6                 http://purl.org/dc/terms/creator   \n",
      "\n",
      "                                               o  \n",
      "0          http://www.wikidata.org/entity/Q12418  \n",
      "1                                     1990-07-04  \n",
      "2                                      Mona Lisa  \n",
      "3               http://xmlns.com/foaf/0.1/Person  \n",
      "4                    http://example.org/alice#me  \n",
      "5          http://www.wikidata.org/entity/Q12418  \n",
      "6  http://dbpedia.org/resource/Leonardo_da_Vinci  \n"
     ]
    }
   ],
   "source": [
    "from pylipd.utils.rdf_graph import RDFGraph\n",
    "\n",
    "rdf = RDFGraph()\n",
    "rdf.load([\"../examples/rdf/graph.ttl\"])\n",
    "query = \"\"\"PREFIX le: <http://linked.earth/ontology#>\n",
    "        select ?s ?p ?o where {\n",
    "            ?s ?p ?o\n",
    "        } LIMIT 10 \"\"\"\n",
    "result, result_df = rdf.query(query)\n",
    "print(result_df)"
   ]
  },
  {
   "cell_type": "code",
   "execution_count": 7,
   "id": "93a2f103",
   "metadata": {
    "execution": {
     "iopub.execute_input": "2023-05-18T03:52:25.666038Z",
     "iopub.status.busy": "2023-05-18T03:52:25.665772Z",
     "iopub.status.idle": "2023-05-18T03:52:25.671493Z",
     "shell.execute_reply": "2023-05-18T03:52:25.670921Z"
    }
   },
   "outputs": [],
   "source": [
    "from pylipd.utils.rdf_graph import RDFGraph\n",
    "\n",
    "# Remove RDF graph data for given id(s)\n",
    "rdf = RDFGraph()\n",
    "rdf.load([\"../examples/rdf/graph.ttl\"], graphid=\"http://example.org/graph\")\n",
    "rdf.remove(\"http://example.org/graph\")"
   ]
  },
  {
   "cell_type": "code",
   "execution_count": 8,
   "id": "f921ceb1",
   "metadata": {
    "execution": {
     "iopub.execute_input": "2023-05-18T03:52:25.674347Z",
     "iopub.status.busy": "2023-05-18T03:52:25.674071Z",
     "iopub.status.idle": "2023-05-18T03:52:25.681710Z",
     "shell.execute_reply": "2023-05-18T03:52:25.681190Z"
    }
   },
   "outputs": [
    {
     "name": "stdout",
     "output_type": "stream",
     "text": [
      "<http://example.org/bob#me> <http://xmlns.com/foaf/0.1/topic_interest> <http://www.wikidata.org/entity/Q12418> <http://example.org/graph> .\n",
      "<http://example.org/bob#me> <http://schema.org/birthDate> \"1990-07-04\"^^<http://www.w3.org/2001/XMLSchema#date> <http://example.org/graph> .\n",
      "<http://www.wikidata.org/entity/Q12418> <http://purl.org/dc/terms/title> \"Mona Lisa\" <http://example.org/graph> .\n",
      "<http://example.org/bob#me> <http://www.w3.org/1999/02/22-rdf-syntax-ns#type> <http://xmlns.com/foaf/0.1/Person> <http://example.org/graph> .\n",
      "<http://example.org/bob#me> <http://xmlns.com/foaf/0.1/knows> <http://example.org/alice#me> <http://example.org/graph> .\n",
      "<http://data.europeana.eu/item/04802/243FA8618938F4117025F17A8B813C5F9AA4D619> <http://purl.org/dc/terms/subject> <http://www.wikidata.org/entity/Q12418> <http://example.org/graph> .\n",
      "<http://www.wikidata.org/entity/Q12418> <http://purl.org/dc/terms/creator> <http://dbpedia.org/resource/Leonardo_da_Vinci> <http://example.org/graph> .\n",
      "\n",
      "\n",
      "...\n"
     ]
    }
   ],
   "source": [
    "from pylipd.utils.rdf_graph import RDFGraph\n",
    "\n",
    "# Fetch RDF data\n",
    "rdf = RDFGraph()\n",
    "rdf.load([\"../examples/rdf/graph.ttl\"], graphid=\"http://example.org/graph\")\n",
    "nquads = rdf.serialize()\n",
    "print(nquads[:10000])\n",
    "print(\"...\")"
   ]
  },
  {
   "cell_type": "code",
   "execution_count": 9,
   "id": "d7c7f708",
   "metadata": {
    "execution": {
     "iopub.execute_input": "2023-05-18T03:52:25.684478Z",
     "iopub.status.busy": "2023-05-18T03:52:25.684216Z",
     "iopub.status.idle": "2023-05-18T03:52:25.691606Z",
     "shell.execute_reply": "2023-05-18T03:52:25.691009Z"
    }
   },
   "outputs": [],
   "source": [
    "from pylipd.utils.rdf_graph import RDFGraph\n",
    "\n",
    "# Fetch LiPD data from remote RDF Graph\n",
    "rdf = RDFGraph()\n",
    "rdf.set_endpoint(\"https://linkedearth.graphdb.mint.isi.edu/repositories/LiPDVerse2\")\n",
    "(result, result_df) = rdf.query(\"SELECT ?s ?p ?o WHERE {?s ?p ?o} LIMIT 10\")"
   ]
  }
 ],
 "metadata": {
  "kernelspec": {
   "display_name": "Python 3 (ipykernel)",
   "language": "python",
   "name": "python3"
  },
  "language_info": {
   "codemirror_mode": {
    "name": "ipython",
    "version": 3
   },
   "file_extension": ".py",
   "mimetype": "text/x-python",
   "name": "python",
   "nbconvert_exporter": "python",
   "pygments_lexer": "ipython3",
   "version": "3.10.8"
  }
 },
 "nbformat": 4,
 "nbformat_minor": 5
}