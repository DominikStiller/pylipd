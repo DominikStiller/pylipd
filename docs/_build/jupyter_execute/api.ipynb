{
 "cells": [
  {
   "cell_type": "code",
   "execution_count": 1,
   "id": "3a76ac92",
   "metadata": {
    "execution": {
     "iopub.execute_input": "2023-05-18T03:51:40.634007Z",
     "iopub.status.busy": "2023-05-18T03:51:40.633513Z",
     "iopub.status.idle": "2023-05-18T03:51:41.917815Z",
     "shell.execute_reply": "2023-05-18T03:51:41.917015Z"
    }
   },
   "outputs": [
    {
     "name": "stdout",
     "output_type": "stream",
     "text": [
      "Loading 1 LiPD files\n"
     ]
    },
    {
     "name": "stderr",
     "output_type": "stream",
     "text": [
      "\r",
      "  0%|                                                             | 0/1 [00:00<?, ?it/s]"
     ]
    },
    {
     "name": "stderr",
     "output_type": "stream",
     "text": [
      "\r",
      "100%|█████████████████████████████████████████████████████| 1/1 [00:00<00:00,  2.68it/s]"
     ]
    },
    {
     "name": "stderr",
     "output_type": "stream",
     "text": [
      "\r",
      "100%|█████████████████████████████████████████████████████| 1/1 [00:00<00:00,  2.67it/s]"
     ]
    },
    {
     "name": "stderr",
     "output_type": "stream",
     "text": [
      "\n"
     ]
    },
    {
     "name": "stdout",
     "output_type": "stream",
     "text": [
      "Loaded..\n",
      "Extracting timeseries from dataset: Nunalleq.Ledger.2018 ...\n",
      "Nunalleq.Ledger.2018: temperature: Archaeological\n",
      "Nunalleq.Ledger.2018: temperature: Archaeological\n",
      "Nunalleq.Ledger.2018: temperatureUncertainty: Archaeological\n",
      "Nunalleq.Ledger.2018: precipitation: Archaeological\n",
      "Nunalleq.Ledger.2018: temperatureUncertainty: Archaeological\n",
      "Nunalleq.Ledger.2018: temperature: Archaeological\n",
      "Nunalleq.Ledger.2018: precipitation: Archaeological\n",
      "Nunalleq.Ledger.2018: precipitation: Archaeological\n",
      "Nunalleq.Ledger.2018: temperatureUncertainty: Archaeological\n",
      "Nunalleq.Ledger.2018: precipitationUncertainty: Archaeological\n",
      "Nunalleq.Ledger.2018: age: Archaeological\n",
      "Nunalleq.Ledger.2018: temperature: Archaeological\n",
      "Nunalleq.Ledger.2018: temperatureUncertainty: Archaeological\n",
      "Nunalleq.Ledger.2018: ageMedian: Archaeological\n",
      "Nunalleq.Ledger.2018: temperatureUncertainty: Archaeological\n",
      "Nunalleq.Ledger.2018: ageMin: Archaeological\n",
      "Nunalleq.Ledger.2018: precipitation: Archaeological\n",
      "Nunalleq.Ledger.2018: temperature: Archaeological\n",
      "Nunalleq.Ledger.2018: precipitationUncertainty: Archaeological\n",
      "Nunalleq.Ledger.2018: precipitationUncertainty: Archaeological\n",
      "Nunalleq.Ledger.2018: temperature: Archaeological\n",
      "Nunalleq.Ledger.2018: precipitationUncertainty: Archaeological\n",
      "Nunalleq.Ledger.2018: ageMax: Archaeological\n",
      "Nunalleq.Ledger.2018: temperatureUncertainty: Archaeological\n",
      "Nunalleq.Ledger.2018: precipitation: Archaeological\n",
      "Nunalleq.Ledger.2018: temperatureUncertainty: Archaeological\n",
      "Nunalleq.Ledger.2018: precipitationUncertainty: Archaeological\n",
      "Nunalleq.Ledger.2018: temperatureUncertainty: Archaeological\n",
      "Nunalleq.Ledger.2018: depth: Archaeological\n",
      "Nunalleq.Ledger.2018: temperature: Archaeological\n",
      "Nunalleq.Ledger.2018: temperature: Archaeological\n"
     ]
    }
   ],
   "source": [
    "from pylipd.lipd import LiPD\n",
    "\n",
    "lipd = LiPD()\n",
    "lipd.load([\"https://lipdverse.org/data/LCf20b99dfe8d78840ca60dfb1f832b9ec/1_0_1//Nunalleq.Ledger.2018.lpd\"])\n",
    "\n",
    "ts_list = lipd.get_timeseries(lipd.get_all_dataset_names())\n",
    "\n",
    "for dsname, tsos in ts_list.items():\n",
    "    for tso in tsos:\n",
    "        if 'paleoData_variableName' in tso:\n",
    "            print(dsname+': '+tso['paleoData_variableName']+': '+tso['archiveType'])"
   ]
  },
  {
   "cell_type": "code",
   "execution_count": 2,
   "id": "b1d257f1",
   "metadata": {
    "execution": {
     "iopub.execute_input": "2023-05-18T03:51:41.922305Z",
     "iopub.status.busy": "2023-05-18T03:51:41.921826Z",
     "iopub.status.idle": "2023-05-18T03:51:42.028089Z",
     "shell.execute_reply": "2023-05-18T03:51:42.027428Z"
    }
   },
   "outputs": [
    {
     "name": "stdout",
     "output_type": "stream",
     "text": [
      "Loading 1 LiPD files\n"
     ]
    },
    {
     "name": "stderr",
     "output_type": "stream",
     "text": [
      "\r",
      "  0%|                                                             | 0/1 [00:00<?, ?it/s]"
     ]
    },
    {
     "name": "stderr",
     "output_type": "stream",
     "text": [
      "\r",
      "100%|█████████████████████████████████████████████████████| 1/1 [00:00<00:00, 49.40it/s]"
     ]
    },
    {
     "name": "stdout",
     "output_type": "stream",
     "text": [
      "Loaded..\n"
     ]
    },
    {
     "name": "stderr",
     "output_type": "stream",
     "text": [
      "\n"
     ]
    },
    {
     "data": {
      "text/plain": [
       "{'googleMetadataWorksheet': 'oruuxfm',\n",
       " 'googleDataURL': 'https://docs.google.com/spreadsheets/d/1wf30P-s54OTBdLw4dyeaIN53VDoN0u_hOqIwvAeLxtc',\n",
       " 'lipdVersion': 1.3,\n",
       " 'paleoData': [{'measurementTable': [{'columns': [{'qCCertification': 'KLD, NJA',\n",
       "       'useInGlobalTemperatureAnalysis': True,\n",
       "       'number': 1,\n",
       "       'proxyObservationType': 'd18O',\n",
       "       'TSid': 'Ocean2kHR_140',\n",
       "       'sensorGenus': 'Porites',\n",
       "       'hasMinValue': -5.515,\n",
       "       'hasResolution': {'units': 'AD',\n",
       "        'hasMeanValue': 0.25,\n",
       "        'hasMinValue': 0.25,\n",
       "        'hasMaxValue': 0.25,\n",
       "        'hasMedianValue': 0.25},\n",
       "       'iso2kUI': 'CO01TUNG01A',\n",
       "       'hasMaxValue': -4.344,\n",
       "       'variableName': 'd18O',\n",
       "       'measurementTableName': 'measurementTable1',\n",
       "       'inCompilationBeta': {'compilationName': 'Pages2kTemperature',\n",
       "        'compilationVersion': '2_1_1'},\n",
       "       'proxy': 'd18O',\n",
       "       'pages2kID': 'Ocn_097',\n",
       "       'interpretation': [{'variable': 'T',\n",
       "         'scope': 'climate',\n",
       "         'seasonality': 'N/A (subannually resolved)',\n",
       "         'interpDirection': 'negative',\n",
       "         'variableDetail': 'sea@surface'}],\n",
       "       'hasMeanValue': -4.9453,\n",
       "       'hasMedianValue': -4.942,\n",
       "       'wDSPaleoUrl': 'https://www1.ncdc.noaa.gov/pub/data/paleo/pages2k/pages2k-temperature-v2-2017/data-version-2.0.0/Ocn-MadangLagoonPapuaNewGuinea.Kuhnert.2001.txt',\n",
       "       'measurementTableMD5': '793853407e414221c486d2e63b32dd87',\n",
       "       'units': 'permil',\n",
       "       'notes': '; climateInterpretation_seasonality changed - was originally seasonal',\n",
       "       'paleoDataTableName': 'measTable',\n",
       "       'ocean2kID': 'PacificMadangTudhope2001',\n",
       "       'variableType': 'measured'},\n",
       "      {'hasMedianValue': 1936.917,\n",
       "       'paleoDataTableName': 'measTable',\n",
       "       'measurementTableMD5': '793853407e414221c486d2e63b32dd87',\n",
       "       'dataType': 'float',\n",
       "       'hasResolution': {'hasMedianValue': 0.25,\n",
       "        'units': 'AD',\n",
       "        'hasMaxValue': 0.25,\n",
       "        'hasMeanValue': 0.25,\n",
       "        'hasMinValue': 0.25},\n",
       "       'hasMinValue': 1880.792,\n",
       "       'variableName': 'year',\n",
       "       'TSid': 'PYTDAS7AM1Y',\n",
       "       'inferredVariableType': 'Year',\n",
       "       'hasMeanValue': 1936.917,\n",
       "       'measurementTableName': 'measurementTable1',\n",
       "       'description': 'Year AD',\n",
       "       'wDSPaleoUrl': 'https://www1.ncdc.noaa.gov/pub/data/paleo/pages2k/pages2k-temperature-v2-2017/data-version-2.0.0/Ocn-MadangLagoonPapuaNewGuinea.Kuhnert.2001.txt',\n",
       "       'number': 2,\n",
       "       'hasMaxValue': 1993.042,\n",
       "       'units': 'AD',\n",
       "       'variableType': 'inferred'}],\n",
       "     'googleWorkSheetKey': 'ov9tjw6',\n",
       "     'filename': 'Ocn-MadangLagoonPapuaNewGuinea.Kuhnert.2001.paleo1measurement1.csv',\n",
       "     'missingValue': 'NaN',\n",
       "     'tableName': 'Kuhnert'}]}],\n",
       " 'originalDataURL': 'https://www.ncdc.noaa.gov/paleo/study/1866',\n",
       " 'googleSpreadSheetKey': '1wf30P-s54OTBdLw4dyeaIN53VDoN0u_hOqIwvAeLxtc',\n",
       " 'changelog': {'version': '1.0.0',\n",
       "  'curator': 'nicholas',\n",
       "  'notes': 'Starting the changelog',\n",
       "  'timestamp': datetime.date(2022, 8, 23)},\n",
       " 'dataContributor': {'name': 'Wu KLD'},\n",
       " 'inCompilation3_': 'PAGES2k_v2.1.0',\n",
       " 'studyName': 'Madang, Papua New Guinea oxygen isotope record 1880-1993',\n",
       " 'hasUrl': 'https://data.mint.isi.edu/files/lipd/Ocn-MadangLagoonPapuaNewGuinea.Kuhnert.2001.lpd',\n",
       " 'createdBy': 'matlab',\n",
       " 'minYear': 1880.792,\n",
       " 'pub': [{'author': [{'name': 'Nerilie J. Abram'},\n",
       "    {'name': 'Henry C. Wu'},\n",
       "    {'name': 'Jessica E. Tierney'},\n",
       "    {'name': 'Kevin J. Anchukaitis'},\n",
       "    {'name': 'K. Halimeda Kilbourne'},\n",
       "    {'name': 'Jens Zinke'},\n",
       "    {'name': 'Cyril Giry'},\n",
       "    {'name': 'Casey P. Saenger'},\n",
       "    {'name': 'Michael N. Evans'}],\n",
       "   'issue': 3.0,\n",
       "   'journal': 'Paleoceanography',\n",
       "   'pages': '226-252',\n",
       "   'volume': 30.0,\n",
       "   'citeKey': 'tierney2015tropicalseasurfacetempera',\n",
       "   'year': 2015.0,\n",
       "   'title': 'Tropical sea surface temperatures for the past four centuries reconstructed from coral archives',\n",
       "   'dataUrl': 'doi.org',\n",
       "   'doi': '10.1002/2014PA002717',\n",
       "   'publisher': 'Wiley-Blackwell',\n",
       "   'identifier': []},\n",
       "  {'author': [{'name': 'H. Kuhnert'}],\n",
       "   'title': 'World Data Center for Paleoclimatology',\n",
       "   'institution': 'World Data Center for Paleoclimatology',\n",
       "   'url': 'https://www.ncdc.noaa.gov/paleo/study/1866',\n",
       "   'citeKey': 'kuhnert2001httpswwwncdcnoaagovpaleostudy1866DataCitation',\n",
       "   'urldate': 2001.0,\n",
       "   'identifier': []},\n",
       "  {'issue': 5508.0,\n",
       "   'pages': '1511-1517',\n",
       "   'dataUrl': 'doi.org',\n",
       "   'citeKey': 'tudhope2001variabilityintheelninosou',\n",
       "   'year': 2001.0,\n",
       "   'author': [{'name': 'A. W. Tudhope'}],\n",
       "   'journal': 'Science',\n",
       "   'title': 'Variability in the El Nino-Southern Oscillation Through a Glacial-Interglacial Cycle',\n",
       "   'volume': 291.0,\n",
       "   'doi': '10.1126/science.1057969',\n",
       "   'publisher': 'American Association for the Advancement of Science (AAAS)',\n",
       "   'identifier': []}],\n",
       " 'dataSetName': 'Ocn-MadangLagoonPapuaNewGuinea.Kuhnert.2001',\n",
       " 'inCompilation2_': 'PAGES2k_v2.0.0',\n",
       " 'inCompilation1_': 'Ocean2k_v1.0.0',\n",
       " 'datasetId': 'm8yv2VgG97zJmSg3XhqQ',\n",
       " 'geo': {'geometry': {'coordinates': [145.8167, -5.2167, -2.2],\n",
       "   'type': 'Point'},\n",
       "  'properties': {'ocean': 'Pacific',\n",
       "   'pages2kRegion': 'Ocean',\n",
       "   'type': 'http://linked.earth/ontology#Location',\n",
       "   'siteName': 'Madang Lagoon, Papua New Guinea'}},\n",
       " 'maxYear': 1993.042,\n",
       " 'archiveType': 'coral'}"
      ]
     },
     "execution_count": 2,
     "metadata": {},
     "output_type": "execute_result"
    }
   ],
   "source": [
    "from pylipd.lipd import LiPD\n",
    "\n",
    "# Load a local file\n",
    "lipd = LiPD()\n",
    "lipd.load([\n",
    "    \"../examples/data/Ocn-MadangLagoonPapuaNewGuinea.Kuhnert.2001.lpd\",\n",
    "])\n",
    "dsname = lipd.get_all_dataset_names()[0]\n",
    "lipd.create_lipd(dsname, \"test.lpd\")"
   ]
  },
  {
   "cell_type": "code",
   "execution_count": 3,
   "id": "f0c3cabb",
   "metadata": {
    "execution": {
     "iopub.execute_input": "2023-05-18T03:51:42.031892Z",
     "iopub.status.busy": "2023-05-18T03:51:42.031586Z",
     "iopub.status.idle": "2023-05-18T03:51:42.698529Z",
     "shell.execute_reply": "2023-05-18T03:51:42.697635Z"
    }
   },
   "outputs": [
    {
     "name": "stdout",
     "output_type": "stream",
     "text": [
      "Loading 31 LiPD files\n"
     ]
    },
    {
     "name": "stderr",
     "output_type": "stream",
     "text": [
      "\r",
      "  0%|                                                            | 0/31 [00:00<?, ?it/s]"
     ]
    },
    {
     "name": "stderr",
     "output_type": "stream",
     "text": [
      "\r",
      " 19%|██████████                                          | 6/31 [00:00<00:00, 50.55it/s]"
     ]
    },
    {
     "name": "stderr",
     "output_type": "stream",
     "text": [
      "\r",
      " 39%|███████████████████▋                               | 12/31 [00:00<00:00, 40.91it/s]"
     ]
    },
    {
     "name": "stderr",
     "output_type": "stream",
     "text": [
      "\r",
      " 58%|█████████████████████████████▌                     | 18/31 [00:00<00:00, 45.90it/s]"
     ]
    },
    {
     "name": "stderr",
     "output_type": "stream",
     "text": [
      "\r",
      " 77%|███████████████████████████████████████▍           | 24/31 [00:00<00:00, 50.37it/s]"
     ]
    },
    {
     "name": "stderr",
     "output_type": "stream",
     "text": [
      "\r",
      " 97%|█████████████████████████████████████████████████▎ | 30/31 [00:00<00:00, 53.24it/s]"
     ]
    },
    {
     "name": "stderr",
     "output_type": "stream",
     "text": [
      "\r",
      "100%|███████████████████████████████████████████████████| 31/31 [00:00<00:00, 49.50it/s]"
     ]
    },
    {
     "name": "stdout",
     "output_type": "stream",
     "text": [
      "Loaded..\n"
     ]
    },
    {
     "name": "stderr",
     "output_type": "stream",
     "text": [
      "\n"
     ]
    },
    {
     "data": {
      "text/plain": [
       "['Eur-RAPiD-17-5P.Moffa-Sanchez.2014', 'Eur-CoastofPortugal.Abrantes.2011']"
      ]
     },
     "execution_count": 3,
     "metadata": {},
     "output_type": "execute_result"
    }
   ],
   "source": [
    "from pylipd.utils.dataset import load_dir\n",
    "\n",
    "lipd = load_dir()\n",
    "Lfiltered = lipd.filter_by_archive_type('marine')\n",
    "Lfiltered.get_all_dataset_names()"
   ]
  },
  {
   "cell_type": "code",
   "execution_count": 4,
   "id": "eb45f69f",
   "metadata": {
    "execution": {
     "iopub.execute_input": "2023-05-18T03:51:42.702036Z",
     "iopub.status.busy": "2023-05-18T03:51:42.701678Z",
     "iopub.status.idle": "2023-05-18T03:51:43.387259Z",
     "shell.execute_reply": "2023-05-18T03:51:43.385959Z"
    }
   },
   "outputs": [
    {
     "name": "stdout",
     "output_type": "stream",
     "text": [
      "Loading 31 LiPD files\n"
     ]
    },
    {
     "name": "stderr",
     "output_type": "stream",
     "text": [
      "\r",
      "  0%|                                                            | 0/31 [00:00<?, ?it/s]"
     ]
    },
    {
     "name": "stderr",
     "output_type": "stream",
     "text": [
      "\r",
      " 19%|██████████                                          | 6/31 [00:00<00:00, 54.92it/s]"
     ]
    },
    {
     "name": "stderr",
     "output_type": "stream",
     "text": [
      "\r",
      " 39%|███████████████████▋                               | 12/31 [00:00<00:00, 56.79it/s]"
     ]
    },
    {
     "name": "stderr",
     "output_type": "stream",
     "text": [
      "\r",
      " 58%|█████████████████████████████▌                     | 18/31 [00:00<00:00, 42.82it/s]"
     ]
    },
    {
     "name": "stderr",
     "output_type": "stream",
     "text": [
      "\r",
      " 81%|█████████████████████████████████████████▏         | 25/31 [00:00<00:00, 49.49it/s]"
     ]
    },
    {
     "name": "stderr",
     "output_type": "stream",
     "text": [
      "\r",
      "100%|███████████████████████████████████████████████████| 31/31 [00:00<00:00, 51.66it/s]"
     ]
    },
    {
     "name": "stderr",
     "output_type": "stream",
     "text": [
      "\r",
      "100%|███████████████████████████████████████████████████| 31/31 [00:00<00:00, 50.50it/s]"
     ]
    },
    {
     "name": "stdout",
     "output_type": "stream",
     "text": [
      "Loaded..\n"
     ]
    },
    {
     "name": "stderr",
     "output_type": "stream",
     "text": [
      "\n"
     ]
    },
    {
     "data": {
      "text/plain": [
       "['Eur-CentralandEasternPyrenees.Pla.2004',\n",
       " 'Eur-SpanishPyrenees.Dorado-Linan.2012',\n",
       " 'Eur-LakeSilvaplana.Trachsel.2010',\n",
       " 'Eur-EasternCarpathianMountains.Popa.2008',\n",
       " 'Ocn-AqabaJordanAQ19.Heiss.1999',\n",
       " 'Ocn-RedSea.Felis.2000',\n",
       " 'Eur-SpannagelCave.Mangini.2005',\n",
       " 'Ocn-AqabaJordanAQ18.Heiss.1999',\n",
       " 'Eur-Seebergsee.Larocque-Tobler.2012',\n",
       " 'Eur-LakeSilvaplana.Larocque-Tobler.2010']"
      ]
     },
     "execution_count": 4,
     "metadata": {},
     "output_type": "execute_result"
    }
   ],
   "source": [
    "from pylipd.utils.dataset import load_dir\n",
    "\n",
    "lipd = load_dir()\n",
    "Lfiltered = lipd.filter_by_geo_bbox(0,25,50,50)\n",
    "Lfiltered.get_all_dataset_names()"
   ]
  },
  {
   "cell_type": "code",
   "execution_count": 5,
   "id": "f4b17e1a",
   "metadata": {
    "execution": {
     "iopub.execute_input": "2023-05-18T03:51:43.390766Z",
     "iopub.status.busy": "2023-05-18T03:51:43.390449Z",
     "iopub.status.idle": "2023-05-18T03:51:43.478232Z",
     "shell.execute_reply": "2023-05-18T03:51:43.477296Z"
    }
   },
   "outputs": [
    {
     "name": "stdout",
     "output_type": "stream",
     "text": [
      "Loading 2 LiPD files\n"
     ]
    },
    {
     "name": "stderr",
     "output_type": "stream",
     "text": [
      "\r",
      "  0%|                                                             | 0/2 [00:00<?, ?it/s]"
     ]
    },
    {
     "name": "stderr",
     "output_type": "stream",
     "text": [
      "\r",
      "100%|█████████████████████████████████████████████████████| 2/2 [00:00<00:00, 28.84it/s]"
     ]
    },
    {
     "name": "stdout",
     "output_type": "stream",
     "text": [
      "Loaded..\n",
      "Loaded datasets: ['Ocn-MadangLagoonPapuaNewGuinea.Kuhnert.2001', 'MD98_2181.Stott.2007']\n",
      "Got dataset: ['Ocn-MadangLagoonPapuaNewGuinea.Kuhnert.2001']\n"
     ]
    },
    {
     "name": "stderr",
     "output_type": "stream",
     "text": [
      "\n"
     ]
    }
   ],
   "source": [
    "from pylipd.lipd import LiPD\n",
    "\n",
    "# Load LiPD files from a local directory\n",
    "lipd = LiPD()\n",
    "lipd.load([\n",
    "    \"../examples/data/Ocn-MadangLagoonPapuaNewGuinea.Kuhnert.2001.lpd\",\n",
    "    \"../examples/data/MD98_2181.Stott.2007.lpd\"\n",
    "])\n",
    "\n",
    "all_datasets = lipd.get_all_dataset_names()\n",
    "print(\"Loaded datasets: \" + str(all_datasets))\n",
    "ds = lipd.get(all_datasets[0])\n",
    "print(\"Got dataset: \" + str(ds.get_all_dataset_names()))"
   ]
  },
  {
   "cell_type": "code",
   "execution_count": 6,
   "id": "7d2fd39e",
   "metadata": {
    "execution": {
     "iopub.execute_input": "2023-05-18T03:51:43.481839Z",
     "iopub.status.busy": "2023-05-18T03:51:43.481540Z",
     "iopub.status.idle": "2023-05-18T03:51:43.556508Z",
     "shell.execute_reply": "2023-05-18T03:51:43.555495Z"
    }
   },
   "outputs": [
    {
     "name": "stdout",
     "output_type": "stream",
     "text": [
      "Loading 2 LiPD files\n"
     ]
    },
    {
     "name": "stderr",
     "output_type": "stream",
     "text": [
      "\r",
      "  0%|                                                             | 0/2 [00:00<?, ?it/s]"
     ]
    },
    {
     "name": "stderr",
     "output_type": "stream",
     "text": [
      "\r",
      "100%|█████████████████████████████████████████████████████| 2/2 [00:00<00:00, 31.63it/s]"
     ]
    },
    {
     "name": "stdout",
     "output_type": "stream",
     "text": [
      "Loaded..\n",
      "['coral', 'MarineSediment']\n"
     ]
    },
    {
     "name": "stderr",
     "output_type": "stream",
     "text": [
      "\n"
     ]
    }
   ],
   "source": [
    "from pylipd.lipd import LiPD\n",
    "\n",
    "# Load Local files\n",
    "lipd = LiPD()\n",
    "lipd.load([\n",
    "    \"../examples/data/Ocn-MadangLagoonPapuaNewGuinea.Kuhnert.2001.lpd\",\n",
    "    \"../examples/data/MD98_2181.Stott.2007.lpd\"\n",
    "])\n",
    "print(lipd.get_all_archiveTypes())"
   ]
  },
  {
   "cell_type": "code",
   "execution_count": 7,
   "id": "c0aae782",
   "metadata": {
    "execution": {
     "iopub.execute_input": "2023-05-18T03:51:43.559471Z",
     "iopub.status.busy": "2023-05-18T03:51:43.559204Z",
     "iopub.status.idle": "2023-05-18T03:51:43.635796Z",
     "shell.execute_reply": "2023-05-18T03:51:43.634792Z"
    }
   },
   "outputs": [
    {
     "name": "stdout",
     "output_type": "stream",
     "text": [
      "Loading 2 LiPD files\n"
     ]
    },
    {
     "name": "stderr",
     "output_type": "stream",
     "text": [
      "\r",
      "  0%|                                                             | 0/2 [00:00<?, ?it/s]"
     ]
    },
    {
     "name": "stderr",
     "output_type": "stream",
     "text": [
      "\r",
      "100%|█████████████████████████████████████████████████████| 2/2 [00:00<00:00, 30.77it/s]"
     ]
    },
    {
     "name": "stdout",
     "output_type": "stream",
     "text": [
      "Loaded..\n",
      "['m8yv2VgG97zJmSg3XhqQ', 't0E8pOLYdyzmUspGZwbe']\n"
     ]
    },
    {
     "name": "stderr",
     "output_type": "stream",
     "text": [
      "\n"
     ]
    }
   ],
   "source": [
    "from pylipd.lipd import LiPD\n",
    "\n",
    "# Load local files\n",
    "lipd = LiPD()\n",
    "lipd.load([\n",
    "    \"../examples/data/Ocn-MadangLagoonPapuaNewGuinea.Kuhnert.2001.lpd\",\n",
    "    \"../examples/data/MD98_2181.Stott.2007.lpd\"\n",
    "])\n",
    "print(lipd.get_all_dataset_ids())"
   ]
  },
  {
   "cell_type": "code",
   "execution_count": 8,
   "id": "077f812f",
   "metadata": {
    "execution": {
     "iopub.execute_input": "2023-05-18T03:51:43.639049Z",
     "iopub.status.busy": "2023-05-18T03:51:43.638776Z",
     "iopub.status.idle": "2023-05-18T03:51:43.847547Z",
     "shell.execute_reply": "2023-05-18T03:51:43.846676Z"
    }
   },
   "outputs": [
    {
     "name": "stdout",
     "output_type": "stream",
     "text": [
      "Loading 2 LiPD files\n"
     ]
    },
    {
     "name": "stderr",
     "output_type": "stream",
     "text": [
      "\r",
      "  0%|                                                             | 0/2 [00:00<?, ?it/s]"
     ]
    },
    {
     "name": "stderr",
     "output_type": "stream",
     "text": [
      "\r",
      "100%|█████████████████████████████████████████████████████| 2/2 [00:00<00:00, 10.15it/s]"
     ]
    },
    {
     "name": "stderr",
     "output_type": "stream",
     "text": [
      "\r",
      "100%|█████████████████████████████████████████████████████| 2/2 [00:00<00:00, 10.10it/s]"
     ]
    },
    {
     "name": "stdout",
     "output_type": "stream",
     "text": [
      "Loaded..\n",
      "['Ocn-MadangLagoonPapuaNewGuinea.Kuhnert.2001', 'MD98_2181.Stott.2007']\n"
     ]
    },
    {
     "name": "stderr",
     "output_type": "stream",
     "text": [
      "\n"
     ]
    }
   ],
   "source": [
    "from pylipd.lipd import LiPD\n",
    "\n",
    "# Load local files\n",
    "lipd = LiPD()\n",
    "lipd.load([\n",
    "    \"../examples/data/Ocn-MadangLagoonPapuaNewGuinea.Kuhnert.2001.lpd\",\n",
    "    \"../examples/data/MD98_2181.Stott.2007.lpd\"\n",
    "])\n",
    "print(lipd.get_all_dataset_names())"
   ]
  },
  {
   "cell_type": "code",
   "execution_count": 9,
   "id": "bef94113",
   "metadata": {
    "execution": {
     "iopub.execute_input": "2023-05-18T03:51:43.850943Z",
     "iopub.status.busy": "2023-05-18T03:51:43.850538Z",
     "iopub.status.idle": "2023-05-18T03:51:45.316930Z",
     "shell.execute_reply": "2023-05-18T03:51:45.316158Z"
    }
   },
   "outputs": [
    {
     "name": "stdout",
     "output_type": "stream",
     "text": [
      "Loading 1 LiPD files\n"
     ]
    },
    {
     "name": "stderr",
     "output_type": "stream",
     "text": [
      "\r",
      "  0%|                                                             | 0/1 [00:00<?, ?it/s]"
     ]
    },
    {
     "name": "stderr",
     "output_type": "stream",
     "text": [
      "\r",
      "100%|█████████████████████████████████████████████████████| 1/1 [00:01<00:00,  1.45s/it]"
     ]
    },
    {
     "name": "stderr",
     "output_type": "stream",
     "text": [
      "\r",
      "100%|█████████████████████████████████████████████████████| 1/1 [00:01<00:00,  1.45s/it]"
     ]
    },
    {
     "name": "stdout",
     "output_type": "stream",
     "text": [
      "Loaded..\n",
      "                                                  uri        varid   \n",
      "0   http://linked.earth/lipd/paleo0measurement1.PY...  PYTS96EE0CB  \\\n",
      "1   http://linked.earth/lipd/chron0model0ensemble0...  PYTGOFY4KZD   \n",
      "2   http://linked.earth/lipd/paleo0measurement0.PY...  PYTM9N6HCQM   \n",
      "3   http://linked.earth/lipd/chron0model0summary0....  PYTI487BQDZ   \n",
      "4   http://linked.earth/lipd/paleo0measurement1.PY...  PYTE5EC1JBW   \n",
      "5   http://linked.earth/lipd/paleo0measurement0.PY...  PYT10H23U2E   \n",
      "6   http://linked.earth/lipd/paleo0measurement0.PY...  PYTXJB98403   \n",
      "7   http://linked.earth/lipd/chron0model0ensemble0...  PYTUHE3XLGQ   \n",
      "8   http://linked.earth/lipd/paleo0model0ensemble0...  PYTDW6AIJPW   \n",
      "9   http://linked.earth/lipd/chron0model0summary0....  PYT4Y96QMUU   \n",
      "10  http://linked.earth/lipd/paleo0measurement1.PY...  PYTTUPVG4K3   \n",
      "11  http://linked.earth/lipd/paleo0measurement1.PY...  PYT68HYMYHH   \n",
      "12  http://linked.earth/lipd/chron0measurement0.PY...  PYTLEHYPAYV   \n",
      "13  http://linked.earth/lipd/paleo0measurement0.PY...  PYT8BDSRW3H   \n",
      "14  http://linked.earth/lipd/chron0model0summary0....  PYT7DLYN7X4   \n",
      "15  http://linked.earth/lipd/paleo0measurement1.PY...  PYTPQ0FJO1S   \n",
      "16  http://linked.earth/lipd/paleo0measurement1.PY...  PYTYDOYFVYD   \n",
      "17  http://linked.earth/lipd/paleo0measurement0.PY...  PYTKRFVW61B   \n",
      "18  http://linked.earth/lipd/paleo0model0ensemble0...  PYTCHXB40SL   \n",
      "19  http://linked.earth/lipd/chron0measurement0.PY...  PYT9CFQ4GK0   \n",
      "20  http://linked.earth/lipd/paleo0measurement1.PY...  PYT19MC8WE2   \n",
      "21  http://linked.earth/lipd/paleo0measurement0.PY...  PYT95DVDUU3   \n",
      "22  http://linked.earth/lipd/chron0model0summary0....  PYTPWX0LH3I   \n",
      "23  http://linked.earth/lipd/chron0measurement0.PY...  PYTTD7XCQGS   \n",
      "24  http://linked.earth/lipd/paleo0measurement0.PY...  PYT2ZB6MLZ9   \n",
      "25  http://linked.earth/lipd/chron0model0summary0....  PYTDIEKUM44   \n",
      "26  http://linked.earth/lipd/paleo0measurement0.PY...  PYTJ3PSH0LT   \n",
      "27  http://linked.earth/lipd/paleo0measurement1.PY...  PYT3ZMI0BXW   \n",
      "28  http://linked.earth/lipd/paleo0measurement1.PY...  PYTJZ4GLRYP   \n",
      "29  http://linked.earth/lipd/paleo0measurement0.PY...  PYTGO6NV72Y   \n",
      "\n",
      "                       varname  \n",
      "0                        depth  \n",
      "1                        depth  \n",
      "2          ukprime37.Uk37Prime  \n",
      "3                      lower95  \n",
      "4                        event  \n",
      "5           c37 total.Alkenone  \n",
      "6                          age  \n",
      "7                          age  \n",
      "8                          sst  \n",
      "9                         d180  \n",
      "10      u. peregrina d13c.d13C  \n",
      "11                    depth cr  \n",
      "12                        d18o  \n",
      "13                     section  \n",
      "14                      median  \n",
      "15                  depth comp  \n",
      "16      u. peregrina d18o.d18O  \n",
      "17                       depth  \n",
      "18                       depth  \n",
      "19                       depth  \n",
      "20  c. wuellerstorfi d13c.d13C  \n",
      "21                  temp prahl  \n",
      "22                       depth  \n",
      "23                         age  \n",
      "24                    interval  \n",
      "25                     upper95  \n",
      "26                   site/hole  \n",
      "27  c. wuellerstorfi d18o.d18O  \n",
      "28                sample label  \n",
      "29                 temp muller  \n"
     ]
    },
    {
     "name": "stderr",
     "output_type": "stream",
     "text": [
      "\n"
     ]
    }
   ],
   "source": [
    "from pylipd.lipd import LiPD\n",
    "\n",
    "lipd = LiPD()\n",
    "lipd.load([\n",
    "    \"../examples/data/ODP846.Lawrence.2006.lpd\"\n",
    "])\n",
    "\n",
    "df = lipd.get_all_variables()\n",
    "print(df)"
   ]
  },
  {
   "cell_type": "code",
   "execution_count": 10,
   "id": "83f742b8",
   "metadata": {
    "execution": {
     "iopub.execute_input": "2023-05-18T03:51:45.320746Z",
     "iopub.status.busy": "2023-05-18T03:51:45.320351Z",
     "iopub.status.idle": "2023-05-18T03:51:46.933595Z",
     "shell.execute_reply": "2023-05-18T03:51:46.932701Z"
    }
   },
   "outputs": [
    {
     "name": "stdout",
     "output_type": "stream",
     "text": [
      "Loading 2 LiPD files\n"
     ]
    },
    {
     "name": "stderr",
     "output_type": "stream",
     "text": [
      "\r",
      "  0%|                                                             | 0/2 [00:00<?, ?it/s]"
     ]
    },
    {
     "name": "stderr",
     "output_type": "stream",
     "text": [
      "\r",
      "100%|█████████████████████████████████████████████████████| 2/2 [00:00<00:00, 31.46it/s]"
     ]
    },
    {
     "name": "stderr",
     "output_type": "stream",
     "text": [
      "\n"
     ]
    },
    {
     "name": "stdout",
     "output_type": "stream",
     "text": [
      "Loaded..\n"
     ]
    },
    {
     "name": "stdout",
     "output_type": "stream",
     "text": [
      "Cannot find a matching record for the provided DOI, creating the entry manually\n"
     ]
    },
    {
     "name": "stdout",
     "output_type": "stream",
     "text": [
      "(['@article{Tudhope_2001,\\n\\tdoi = {10.1126/science.1057969},\\n\\turl = {https://doi.org/10.1126%2Fscience.1057969},\\n\\tyear = 2001,\\n\\tmonth = {feb},\\n\\tpublisher = {American Association for the Advancement of Science ({AAAS})},\\n\\tvolume = {291},\\n\\tnumber = {5508},\\n\\tpages = {1511--1517},\\n\\tauthor = {Alexander W. Tudhope and Colin P. Chilcott and Malcolm T. McCulloch and Edward R. Cook and John Chappell and Robert M. Ellam and David W. Lea and Janice M. Lough and Graham B. Shimmield},\\n\\ttitle = {Variability in the El Ni{\\\\~{n}}o-Southern Oscillation Through a Glacial-Interglacial Cycle},\\n\\tjournal = {Science}\\n}', '@misc{kuhnert2001httpswwwncdcnoaagovpaleostudy1866DataCitation,\\n    author = \"H. Kuhnert\",\\n    title = \"World Data Center for Paleoclimatology\",\\n    institution = \"World Data Center for Paleoclimatology\",\\n    url = \"https://www.ncdc.noaa.gov/paleo/study/1866\"\\n}\\n', '@article{Tierney_2015,\\n\\tdoi = {10.1002/2014pa002717},\\n\\turl = {https://doi.org/10.1002%2F2014pa002717},\\n\\tyear = 2015,\\n\\tmonth = {mar},\\n\\tpublisher = {American Geophysical Union ({AGU})},\\n\\tvolume = {30},\\n\\tnumber = {3},\\n\\tpages = {226--252},\\n\\tauthor = {Jessica E. Tierney and Nerilie J. Abram and Kevin J. Anchukaitis and Michael N. Evans and Cyril Giry and K. Halimeda Kilbourne and Casey P. Saenger and Henry C. Wu and Jens Zinke},\\n\\ttitle = {Tropical sea surface temperatures for the past four centuries reconstructed from coral archives},\\n\\tjournal = {Paleoceanography}\\n}', '@article{Stott_2007,\\n\\tdoi = {10.1126/science.1143791},\\n\\turl = {https://doi.org/10.1126%2Fscience.1143791},\\n\\tyear = 2007,\\n\\tmonth = {oct},\\n\\tpublisher = {American Association for the Advancement of Science ({AAAS})},\\n\\tvolume = {318},\\n\\tnumber = {5849},\\n\\tpages = {435--438},\\n\\tauthor = {Lowell Stott and Axel Timmermann and Robert Thunell},\\n\\ttitle = {Southern Hemisphere and Deep-Sea Warming Led Deglacial Atmospheric {CO}\\n\\t\\t            $\\\\less$sub$\\\\greater$2$\\\\less$/sub$\\\\greater$\\n\\t\\t            Rise and Tropical Warming},\\n\\tjournal = {Science}\\n}', '@article{Stott_2007,\\n\\tdoi = {10.1029/2006pa001379},\\n\\turl = {https://doi.org/10.1029%2F2006pa001379},\\n\\tyear = 2007,\\n\\tmonth = {feb},\\n\\tpublisher = {American Geophysical Union ({AGU})},\\n\\tvolume = {22},\\n\\tnumber = {1},\\n\\tpages = {n/a--n/a},\\n\\tauthor = {Lowell D. Stott},\\n\\ttitle = {Comment on {\\\\textquotedblleft}Anomalous radiocarbon ages for foraminifera shells{\\\\textquotedblright} by W. Broecker et al.: A correction to the western tropical Pacific {MD}9821-81 record},\\n\\tjournal = {Paleoceanography}\\n}'],                                         dsname   \n",
      "0  Ocn-MadangLagoonPapuaNewGuinea.Kuhnert.2001  \\\n",
      "1  Ocn-MadangLagoonPapuaNewGuinea.Kuhnert.2001   \n",
      "2  Ocn-MadangLagoonPapuaNewGuinea.Kuhnert.2001   \n",
      "3                         MD98_2181.Stott.2007   \n",
      "4                         MD98_2181.Stott.2007   \n",
      "\n",
      "                                               title   \n",
      "0  Variability in the El Nino-Southern Oscillatio...  \\\n",
      "1             World Data Center for Paleoclimatology   \n",
      "2  Tropical sea surface temperatures for the past...   \n",
      "3  Southern Hemisphere and deep-sea warming led d...   \n",
      "4                                               None   \n",
      "\n",
      "                                             authors                      doi   \n",
      "0                                      A. W. Tudhope  10.1126/science.1057969  \\\n",
      "1                                         H. Kuhnert                     None   \n",
      "2  Kevin J. Anchukaitis and Cyril Giry and K. Hal...     10.1002/2014PA002717   \n",
      "3          A. Timmermann and L. Stott and R. Thunell  10.1126/science.1143791   \n",
      "4                                                        10.1029/2006PA001379   \n",
      "\n",
      "  pubyear    year           journal  volume   issue      pages   \n",
      "0    None  2001.0           Science   291.0  5508.0  1511-1517  \\\n",
      "1    None     NaN              None     NaN     NaN       None   \n",
      "2    None  2015.0  Paleoceanography    30.0     3.0    226-252   \n",
      "3    None  2007.0           Science   318.0  5849.0  435   438   \n",
      "4    None     NaN              None     NaN     NaN       None   \n",
      "\n",
      "              type                                          publisher report   \n",
      "0  journal-article  American Association for the Advancement of Sc...   None  \\\n",
      "1     dataCitation                                               None   None   \n",
      "2  journal-article                                    Wiley-Blackwell   None   \n",
      "3             None                                               None   None   \n",
      "4             None                                               None   None   \n",
      "\n",
      "                                             citeKey edition   \n",
      "0               tudhope2001variabilityintheelninosou    None  \\\n",
      "1  kuhnert2001httpswwwncdcnoaagovpaleostudy1866Da...    None   \n",
      "2               tierney2015tropicalseasurfacetempera    None   \n",
      "3                                           WMGAVB7S    None   \n",
      "4                                               None    None   \n",
      "\n",
      "                              institution   url   \n",
      "0                                    None  None  \\\n",
      "1  World Data Center for Paleoclimatology  None   \n",
      "2                                    None  None   \n",
      "3                                    None  None   \n",
      "4                                    None  None   \n",
      "\n",
      "                                         url2  \n",
      "0                                        None  \n",
      "1  https://www.ncdc.noaa.gov/paleo/study/1866  \n",
      "2                                        None  \n",
      "3                                        None  \n",
      "4                                        None  )\n"
     ]
    }
   ],
   "source": [
    "from pylipd.lipd import LiPD\n",
    "\n",
    "# Fetch LiPD data from remote RDF Graph\n",
    "lipd = LiPD()\n",
    "lipd.load([\n",
    "    \"../examples/data/Ocn-MadangLagoonPapuaNewGuinea.Kuhnert.2001.lpd\",\n",
    "    \"../examples/data/MD98_2181.Stott.2007.lpd\"\n",
    "])\n",
    "print(lipd.get_bibtex(save=False))"
   ]
  },
  {
   "cell_type": "code",
   "execution_count": 11,
   "id": "94a66e57",
   "metadata": {
    "execution": {
     "iopub.execute_input": "2023-05-18T03:51:46.937753Z",
     "iopub.status.busy": "2023-05-18T03:51:46.937394Z",
     "iopub.status.idle": "2023-05-18T03:51:48.358817Z",
     "shell.execute_reply": "2023-05-18T03:51:48.358123Z"
    }
   },
   "outputs": [
    {
     "name": "stdout",
     "output_type": "stream",
     "text": [
      "Loading 1 LiPD files\n"
     ]
    },
    {
     "name": "stderr",
     "output_type": "stream",
     "text": [
      "\r",
      "  0%|                                                             | 0/1 [00:00<?, ?it/s]"
     ]
    },
    {
     "name": "stderr",
     "output_type": "stream",
     "text": [
      "\r",
      "100%|█████████████████████████████████████████████████████| 1/1 [00:01<00:00,  1.33s/it]"
     ]
    },
    {
     "name": "stderr",
     "output_type": "stream",
     "text": [
      "\r",
      "100%|█████████████████████████████████████████████████████| 1/1 [00:01<00:00,  1.33s/it]"
     ]
    },
    {
     "name": "stdout",
     "output_type": "stream",
     "text": [
      "Loaded..\n",
      "Loaded datasets: ['ODP846.Lawrence.2006']\n",
      "            datasetName                                   ensembleTable   \n",
      "0  ODP846.Lawrence.2006  http://linked.earth/lipd/chron0model0ensemble0  \\\n",
      "\n",
      "  ensembleVariableName                             ensembleVariableValues   \n",
      "0                  age  [[4.0, 4.0, 4.0, 4.0, 4.0, 4.0, 4.0, 4.0, 4.0,...  \\\n",
      "\n",
      "  ensembleVariableUnits ensembleDepthName   \n",
      "0                kyr BP             depth  \\\n",
      "\n",
      "                                 ensembleDepthValues ensembleDepthUnits notes   \n",
      "0  [0.12, 0.23, 0.33, 0.43, 0.53, 0.63, 0.73, 0.8...                  m  None  \\\n",
      "\n",
      "  methodobj methods  \n",
      "0      None    None  \n"
     ]
    },
    {
     "name": "stderr",
     "output_type": "stream",
     "text": [
      "\n"
     ]
    }
   ],
   "source": [
    "from pylipd.lipd import LiPD\n",
    "\n",
    "lipd = LiPD()\n",
    "lipd.load([\n",
    "    \"../examples/data/ODP846.Lawrence.2006.lpd\"\n",
    "])\n",
    "all_datasets = lipd.get_all_dataset_names()\n",
    "print(\"Loaded datasets: \" + str(all_datasets))\n",
    "\n",
    "ens_df = lipd.get_ensemble_tables(\n",
    "    ensembleVarName=\"age\",\n",
    "    ensembleDepthVarName=\"depth\"\n",
    ")\n",
    "print(ens_df)"
   ]
  },
  {
   "cell_type": "code",
   "execution_count": 12,
   "id": "62639150",
   "metadata": {
    "execution": {
     "iopub.execute_input": "2023-05-18T03:51:48.362158Z",
     "iopub.status.busy": "2023-05-18T03:51:48.361901Z",
     "iopub.status.idle": "2023-05-18T03:51:48.450336Z",
     "shell.execute_reply": "2023-05-18T03:51:48.449396Z"
    }
   },
   "outputs": [
    {
     "name": "stdout",
     "output_type": "stream",
     "text": [
      "Loading 1 LiPD files\n"
     ]
    },
    {
     "name": "stderr",
     "output_type": "stream",
     "text": [
      "\r",
      "  0%|                                                             | 0/1 [00:00<?, ?it/s]"
     ]
    },
    {
     "name": "stderr",
     "output_type": "stream",
     "text": [
      "\r",
      "100%|█████████████████████████████████████████████████████| 1/1 [00:00<00:00, 52.52it/s]"
     ]
    },
    {
     "name": "stdout",
     "output_type": "stream",
     "text": [
      "Loaded..\n",
      "{'googleMetadataWorksheet': 'oruuxfm', 'googleDataURL': 'https://docs.google.com/spreadsheets/d/1wf30P-s54OTBdLw4dyeaIN53VDoN0u_hOqIwvAeLxtc', 'lipdVersion': 1.3, 'pub': [{'citeKey': 'tudhope2001variabilityintheelninosou', 'doi': '10.1126/science.1057969', 'journal': 'Science', 'title': 'Variability in the El Nino-Southern Oscillation Through a Glacial-Interglacial Cycle', 'issue': 5508.0, 'author': [{'name': 'A. W. Tudhope'}], 'dataUrl': 'doi.org', 'publisher': 'American Association for the Advancement of Science (AAAS)', 'volume': 291.0, 'pages': '1511-1517', 'year': 2001.0, 'identifier': []}, {'urldate': 2001.0, 'title': 'World Data Center for Paleoclimatology', 'citeKey': 'kuhnert2001httpswwwncdcnoaagovpaleostudy1866DataCitation', 'institution': 'World Data Center for Paleoclimatology', 'url': 'https://www.ncdc.noaa.gov/paleo/study/1866', 'author': [{'name': 'H. Kuhnert'}], 'identifier': []}, {'author': [{'name': 'K. Halimeda Kilbourne'}, {'name': 'Jens Zinke'}, {'name': 'Casey P. Saenger'}, {'name': 'Cyril Giry'}, {'name': 'Jessica E. Tierney'}, {'name': 'Michael N. Evans'}, {'name': 'Nerilie J. Abram'}, {'name': 'Henry C. Wu'}, {'name': 'Kevin J. Anchukaitis'}], 'volume': 30.0, 'citeKey': 'tierney2015tropicalseasurfacetempera', 'title': 'Tropical sea surface temperatures for the past four centuries reconstructed from coral archives', 'dataUrl': 'doi.org', 'publisher': 'Wiley-Blackwell', 'doi': '10.1002/2014PA002717', 'issue': 3.0, 'pages': '226-252', 'year': 2015.0, 'journal': 'Paleoceanography', 'identifier': []}], 'paleoData': [{'measurementTable': [{'columns': [{'qCCertification': 'KLD, NJA', 'useInGlobalTemperatureAnalysis': True, 'number': 1, 'proxyObservationType': 'd18O', 'TSid': 'Ocean2kHR_140', 'sensorGenus': 'Porites', 'hasMinValue': -5.515, 'hasResolution': {'units': 'AD', 'hasMeanValue': 0.25, 'hasMinValue': 0.25, 'hasMaxValue': 0.25, 'hasMedianValue': 0.25}, 'inCompilationBeta': {'compilationName': 'Pages2kTemperature', 'compilationVersion': '2_1_1'}, 'iso2kUI': 'CO01TUNG01A', 'hasMaxValue': -4.344, 'variableName': 'd18O', 'measurementTableName': 'measurementTable1', 'proxy': 'd18O', 'pages2kID': 'Ocn_097', 'interpretation': [{'variable': 'T', 'scope': 'climate', 'seasonality': 'N/A (subannually resolved)', 'interpDirection': 'negative', 'variableDetail': 'sea@surface'}], 'hasMeanValue': -4.9453, 'hasMedianValue': -4.942, 'wDSPaleoUrl': 'https://www1.ncdc.noaa.gov/pub/data/paleo/pages2k/pages2k-temperature-v2-2017/data-version-2.0.0/Ocn-MadangLagoonPapuaNewGuinea.Kuhnert.2001.txt', 'measurementTableMD5': '793853407e414221c486d2e63b32dd87', 'units': 'permil', 'notes': '; climateInterpretation_seasonality changed - was originally seasonal', 'paleoDataTableName': 'measTable', 'ocean2kID': 'PacificMadangTudhope2001', 'variableType': 'measured', 'values': [-4.827, -4.786, -4.693, -4.852, -4.991, -4.904, -4.855, -4.862, -4.856, -4.947, -5.005, -5.298, -5.196, -5.298, -5.106, -5.375, -5.169, -5.083, -4.996, -5.027, -4.846, -4.646, -4.589, -4.972, -4.917, -4.795, -4.759, -5.301, -5.12, -5.086, -5.103, -5.244, -5.186, -5.059, -4.971, -5.356, -5.206, -4.885, -4.756, -4.959, -4.812, -4.667, -4.494, -5.117, -5.189, -5.133, -5.081, -5.165, -5.049, -4.883, -4.839, -5.103, -5.083, -4.96, -4.921, -5.204, -5.082, -5.133, -5.026, -5.334, -5.129, -4.889, -4.855, -5.214, -5.003, -4.842, -4.864, -5.038, -4.878, -5.027, -5.181, -5.515, -5.334, -5.06, -4.958, -5.268, -5.228, -5.136, -5.123, -5.304, -5.072, -4.748, -4.785, -5.234, -5.164, -5.053, -5.03, -5.188, -4.931, -4.99, -5.142, -5.216, -5.09, -4.865, -4.894, -5.041, -5.037, -5.064, -5.11, -5.291, -5.198, -5.242, -5.297, -5.492, -5.382, -5.087, -5.009, -5.282, -4.831, -4.524, -4.556, -5.071, -4.995, -4.958, -4.991, -5.08, -4.942, -4.908, -4.848, -4.993, -4.964, -5.031, -5.02, -5.245, -5.157, -5.041, -5.19, -5.39, -5.244, -5.072, -5.082, -5.362, -5.148, -4.889, -4.942, -4.895, -4.995, -4.924, -4.962, -5.0, -4.912, -4.774, -4.87, -5.104, -5.01, -4.996, -5.031, -5.112, -4.962, -5.003, -4.886, -5.095, -5.409, -4.992, -4.859, -5.151, -5.087, -5.031, -5.02, -5.355, -5.148, -5.13, -5.106, -5.228, -5.05, -4.868, -4.854, -4.937, -4.903, -4.902, -4.821, -4.963, -4.792, -4.886, -4.891, -5.146, -4.912, -4.856, -4.771, -4.964, -4.866, -4.909, -5.07, -5.459, -5.246, -4.871, -4.847, -5.086, -4.91, -4.912, -4.991, -5.203, -5.149, -4.957, -4.979, -5.232, -5.087, -5.072, -5.013, -5.329, -5.239, -5.016, -5.016, -5.079, -4.87, -4.786, -4.385, -4.525, -4.707, -4.607, -4.403, -4.607, -4.773, -4.846, -4.832, -4.925, -4.677, -4.487, -4.495, -4.597, -4.594, -4.629, -4.582, -4.832, -4.836, -4.687, -4.644, -4.967, -4.739, -4.803, -4.786, -5.133, -4.839, -4.899, -4.813, -4.973, -4.913, -5.002, -4.904, -5.114, -4.917, -4.886, -4.72, -4.926, -4.874, -4.677, -4.601, -4.924, -5.175, -4.906, -4.725, -5.135, -4.907, -4.829, -4.79, -5.185, -5.123, -4.988, -5.104, -5.33, -5.185, -5.158, -5.06, -5.282, -5.163, -5.06, -4.911, -5.03, -5.049, -4.688, -4.775, -5.055, -4.936, -4.807, -4.774, -5.162, -5.014, -4.975, -4.65, -4.919, -5.268, -4.892, -4.984, -5.139, -5.146, -4.998, -4.875, -5.035, -5.149, -5.123, -4.942, -5.108, -5.254, -4.856, -4.766, -5.051, -5.097, -4.715, -4.613, -4.786, -5.022, -4.986, -4.899, -4.96, -4.779, -4.897, -5.019, -5.453, -5.06, -4.788, -4.659, -4.767, -4.79, -4.378, -4.344, -4.727, -4.903, -4.875, -4.756, -4.988, -5.185, -4.943, -4.816, -4.839, -4.795, -4.747, -4.636, -4.753, -4.796, -4.716, -4.636, -4.775, -4.845, -4.809, -4.832, -5.013, -5.084, -4.909, -4.94, -5.031, -4.735, -4.625, -4.703, -4.933, -4.787, -4.808, -4.824, -5.266, -4.987, -4.634, -4.786, -5.08, -4.978, -4.988, -4.774, -5.006, -5.014, -4.866, -4.767, -4.722, -4.546, -4.359, -4.582, -5.062, -5.27, -5.077, -5.174, -5.2, -4.911, -4.96, -4.89, -5.115, -4.926, -4.839, -4.866, -5.211, -5.128, -5.037, -4.995, -5.131, -5.041, -4.969, -4.949, -5.052, -4.941, -4.671, -4.616, -5.11, -5.048, -4.751, -4.634, -5.052, -4.846, -4.742, -4.741, -4.903, -4.947, -4.848, -4.877, -4.886, -4.878, -4.956, -4.681, -4.941, -4.83, -5.185, -5.012, -4.967, -4.924, -4.77, -4.612, -4.957, -5.018, -4.97, -4.792, -4.788, -4.696, -4.525, -4.527, -4.721, -4.691, -4.853, -4.788, -4.931, -4.912, -4.954, -5.027, -4.937, -4.718, -4.512, -4.494, -4.675, -4.651, -4.666, -4.64, -4.849, -4.888, -4.833, -4.803, -4.863, -4.915, -4.733, -4.792, -4.872, -5.023, -4.923, -4.792, -4.906, -4.94, -4.801]}, {'hasMedianValue': 1936.917, 'paleoDataTableName': 'measTable', 'measurementTableMD5': '793853407e414221c486d2e63b32dd87', 'dataType': 'float', 'hasResolution': {'hasMedianValue': 0.25, 'units': 'AD', 'hasMaxValue': 0.25, 'hasMeanValue': 0.25, 'hasMinValue': 0.25}, 'hasMinValue': 1880.792, 'variableName': 'year', 'TSid': 'PYTDAS7AM1Y', 'inferredVariableType': 'Year', 'hasMeanValue': 1936.917, 'measurementTableName': 'measurementTable1', 'description': 'Year AD', 'wDSPaleoUrl': 'https://www1.ncdc.noaa.gov/pub/data/paleo/pages2k/pages2k-temperature-v2-2017/data-version-2.0.0/Ocn-MadangLagoonPapuaNewGuinea.Kuhnert.2001.txt', 'number': 2, 'hasMaxValue': 1993.042, 'units': 'AD', 'variableType': 'inferred', 'values': [1993.042, 1992.792, 1992.542, 1992.292, 1992.042, 1991.792, 1991.542, 1991.292, 1991.042, 1990.792, 1990.542, 1990.292, 1990.042, 1989.792, 1989.542, 1989.292, 1989.042, 1988.792, 1988.542, 1988.292, 1988.042, 1987.792, 1987.542, 1987.292, 1987.042, 1986.792, 1986.542, 1986.292, 1986.042, 1985.792, 1985.542, 1985.292, 1985.042, 1984.792, 1984.542, 1984.292, 1984.042, 1983.792, 1983.542, 1983.292, 1983.042, 1982.792, 1982.542, 1982.292, 1982.042, 1981.792, 1981.542, 1981.292, 1981.042, 1980.792, 1980.542, 1980.292, 1980.042, 1979.792, 1979.542, 1979.292, 1979.042, 1978.792, 1978.542, 1978.292, 1978.042, 1977.792, 1977.542, 1977.292, 1977.042, 1976.792, 1976.542, 1976.292, 1976.042, 1975.792, 1975.542, 1975.292, 1975.042, 1974.792, 1974.542, 1974.292, 1974.042, 1973.792, 1973.542, 1973.292, 1973.042, 1972.792, 1972.542, 1972.292, 1972.042, 1971.792, 1971.542, 1971.292, 1971.042, 1970.792, 1970.542, 1970.292, 1970.042, 1969.792, 1969.542, 1969.292, 1969.042, 1968.792, 1968.542, 1968.292, 1968.042, 1967.792, 1967.542, 1967.292, 1967.042, 1966.792, 1966.542, 1966.292, 1966.042, 1965.792, 1965.542, 1965.292, 1965.042, 1964.792, 1964.542, 1964.292, 1964.042, 1963.792, 1963.542, 1963.292, 1963.042, 1962.792, 1962.542, 1962.292, 1962.042, 1961.792, 1961.542, 1961.292, 1961.042, 1960.792, 1960.542, 1960.292, 1960.042, 1959.792, 1959.542, 1959.292, 1959.042, 1958.792, 1958.542, 1958.292, 1958.042, 1957.792, 1957.542, 1957.292, 1957.042, 1956.792, 1956.542, 1956.292, 1956.042, 1955.792, 1955.542, 1955.292, 1955.042, 1954.792, 1954.542, 1954.292, 1954.042, 1953.792, 1953.542, 1953.292, 1953.042, 1952.792, 1952.542, 1952.292, 1952.042, 1951.792, 1951.542, 1951.292, 1951.042, 1950.792, 1950.542, 1950.292, 1950.042, 1949.792, 1949.542, 1949.292, 1949.042, 1948.792, 1948.542, 1948.292, 1948.042, 1947.792, 1947.542, 1947.292, 1947.042, 1946.792, 1946.542, 1946.292, 1946.042, 1945.792, 1945.542, 1945.292, 1945.042, 1944.792, 1944.542, 1944.292, 1944.042, 1943.792, 1943.542, 1943.292, 1943.042, 1942.792, 1942.542, 1942.292, 1942.042, 1941.792, 1941.542, 1941.292, 1941.042, 1940.792, 1940.542, 1940.292, 1940.042, 1939.792, 1939.542, 1939.292, 1939.042, 1938.792, 1938.542, 1938.292, 1938.042, 1937.792, 1937.542, 1937.292, 1937.042, 1936.792, 1936.542, 1936.292, 1936.042, 1935.792, 1935.542, 1935.292, 1935.042, 1934.792, 1934.542, 1934.292, 1934.042, 1933.792, 1933.542, 1933.292, 1933.042, 1932.792, 1932.542, 1932.292, 1932.042, 1931.792, 1931.542, 1931.292, 1931.042, 1930.792, 1930.542, 1930.292, 1930.042, 1929.792, 1929.542, 1929.292, 1929.042, 1928.792, 1928.542, 1928.292, 1928.042, 1927.792, 1927.542, 1927.292, 1927.042, 1926.792, 1926.542, 1926.292, 1926.042, 1925.792, 1925.542, 1925.292, 1925.042, 1924.792, 1924.542, 1924.292, 1924.042, 1923.792, 1923.542, 1923.292, 1923.042, 1922.792, 1922.542, 1922.292, 1922.042, 1921.792, 1921.542, 1921.292, 1921.042, 1920.792, 1920.542, 1920.292, 1920.042, 1919.792, 1919.542, 1919.292, 1919.042, 1918.792, 1918.542, 1918.292, 1918.042, 1917.792, 1917.542, 1917.292, 1917.042, 1916.792, 1916.542, 1916.292, 1916.042, 1915.792, 1915.542, 1915.292, 1915.042, 1914.792, 1914.542, 1914.292, 1914.042, 1913.792, 1913.542, 1913.292, 1913.042, 1912.792, 1912.542, 1912.292, 1912.042, 1911.792, 1911.542, 1911.292, 1911.042, 1910.792, 1910.542, 1910.292, 1910.042, 1909.792, 1909.542, 1909.292, 1909.042, 1908.792, 1908.542, 1908.292, 1908.042, 1907.792, 1907.542, 1907.292, 1907.042, 1906.792, 1906.542, 1906.292, 1906.042, 1905.792, 1905.542, 1905.292, 1905.042, 1904.792, 1904.542, 1904.292, 1904.042, 1903.792, 1903.542, 1903.292, 1903.042, 1902.792, 1902.542, 1902.292, 1902.042, 1901.792, 1901.542, 1901.292, 1901.042, 1900.792, 1900.542, 1900.292, 1900.042, 1899.792, 1899.542, 1899.292, 1899.042, 1898.792, 1898.542, 1898.292, 1898.042, 1897.792, 1897.542, 1897.292, 1897.042, 1896.792, 1896.542, 1896.292, 1896.042, 1895.792, 1895.542, 1895.292, 1895.042, 1894.792, 1894.542, 1894.292, 1894.042, 1893.792, 1893.542, 1893.292, 1893.042, 1892.792, 1892.542, 1892.292, 1892.042, 1891.792, 1891.542, 1891.292, 1891.042, 1890.792, 1890.542, 1890.292, 1890.042, 1889.792, 1889.542, 1889.292, 1889.042, 1888.792, 1888.542, 1888.292, 1888.042, 1887.792, 1887.542, 1887.292, 1887.042, 1886.792, 1886.542, 1886.292, 1886.042, 1885.792, 1885.542, 1885.292, 1885.042, 1884.792, 1884.542, 1884.292, 1884.042, 1883.792, 1883.542, 1883.292, 1883.042, 1882.792, 1882.542, 1882.292, 1882.042, 1881.792, 1881.542, 1881.292, 1881.042, 1880.792]}], 'googleWorkSheetKey': 'ov9tjw6', 'filename': 'Ocn-MadangLagoonPapuaNewGuinea.Kuhnert.2001.paleo1measurement1.csv', 'missingValue': 'NaN', 'tableName': 'Kuhnert'}]}], 'originalDataURL': 'https://www.ncdc.noaa.gov/paleo/study/1866', 'googleSpreadSheetKey': '1wf30P-s54OTBdLw4dyeaIN53VDoN0u_hOqIwvAeLxtc', 'changelog': {'version': '1.0.0', 'curator': 'nicholas', 'notes': 'Starting the changelog', 'timestamp': datetime.date(2022, 8, 23)}, 'dataContributor': {'name': 'Wu KLD'}, 'inCompilation3_': 'PAGES2k_v2.1.0', 'studyName': 'Madang, Papua New Guinea oxygen isotope record 1880-1993', 'hasUrl': 'https://data.mint.isi.edu/files/lipd/Ocn-MadangLagoonPapuaNewGuinea.Kuhnert.2001.lpd', 'createdBy': 'matlab', 'minYear': 1880.792, 'dataSetName': 'Ocn-MadangLagoonPapuaNewGuinea.Kuhnert.2001', 'inCompilation2_': 'PAGES2k_v2.0.0', 'inCompilation1_': 'Ocean2k_v1.0.0', 'datasetId': 'm8yv2VgG97zJmSg3XhqQ', 'geo': {'geometry': {'coordinates': [145.8167, -5.2167, -2.2], 'type': 'Point'}, 'properties': {'ocean': 'Pacific', 'pages2kRegion': 'Ocean', 'type': 'http://linked.earth/ontology#Location', 'siteName': 'Madang Lagoon, Papua New Guinea'}}, 'maxYear': 1993.042, 'archiveType': 'coral'}\n"
     ]
    },
    {
     "name": "stderr",
     "output_type": "stream",
     "text": [
      "\n"
     ]
    }
   ],
   "source": [
    "from pylipd.lipd import LiPD\n",
    "\n",
    "# Load a local LiPD file\n",
    "lipd = LiPD()\n",
    "lipd.load([\n",
    "    \"../examples/data/Ocn-MadangLagoonPapuaNewGuinea.Kuhnert.2001.lpd\",\n",
    "])\n",
    "lipd_json = lipd.get_lipd(lipd.get_all_dataset_names()[0])\n",
    "print(lipd_json)"
   ]
  },
  {
   "cell_type": "code",
   "execution_count": 13,
   "id": "3dd55fde",
   "metadata": {
    "execution": {
     "iopub.execute_input": "2023-05-18T03:51:48.453855Z",
     "iopub.status.busy": "2023-05-18T03:51:48.453231Z",
     "iopub.status.idle": "2023-05-18T03:51:48.466659Z",
     "shell.execute_reply": "2023-05-18T03:51:48.465956Z"
    }
   },
   "outputs": [
    {
     "name": "stdout",
     "output_type": "stream",
     "text": [
      "Extracting timeseries from dataset: Ocn-MadangLagoonPapuaNewGuinea.Kuhnert.2001 ...\n",
      "Extracting timeseries from dataset: MD98_2181.Stott.2007 ...\n",
      "Extracting timeseries from dataset: Ant-WAIS-Divide.Severinghaus.2012 ...\n"
     ]
    }
   ],
   "source": [
    "from pylipd.lipd import LiPD\n",
    "\n",
    "# Fetch LiPD data from remote RDF Graph\n",
    "lipd_remote = LiPD()\n",
    "lipd_remote.set_endpoint(\"https://linkedearth.graphdb.mint.isi.edu/repositories/LiPDVerse2\")\n",
    "ts_list = lipd_remote.get_timeseries([\"Ocn-MadangLagoonPapuaNewGuinea.Kuhnert.2001\", \"MD98_2181.Stott.2007\", \"Ant-WAIS-Divide.Severinghaus.2012\"])\n",
    "for dsname, tsos in ts_list.items():\n",
    "    for tso in tsos:\n",
    "        if 'paleoData_variableName' in tso:\n",
    "            print(dsname+': '+tso['paleoData_variableName']+': '+tso['archiveType'])"
   ]
  },
  {
   "cell_type": "code",
   "execution_count": 14,
   "id": "752c0ca1",
   "metadata": {
    "execution": {
     "iopub.execute_input": "2023-05-18T03:51:48.470088Z",
     "iopub.status.busy": "2023-05-18T03:51:48.469764Z",
     "iopub.status.idle": "2023-05-18T03:51:48.970165Z",
     "shell.execute_reply": "2023-05-18T03:51:48.969136Z"
    }
   },
   "outputs": [
    {
     "name": "stdout",
     "output_type": "stream",
     "text": [
      "Loading 4 LiPD files\n"
     ]
    },
    {
     "name": "stderr",
     "output_type": "stream",
     "text": [
      "\r",
      "  0%|                                                             | 0/4 [00:00<?, ?it/s]"
     ]
    },
    {
     "name": "stderr",
     "output_type": "stream",
     "text": [
      "\r",
      " 50%|██████████████████████████▌                          | 2/4 [00:00<00:00, 14.32it/s]"
     ]
    },
    {
     "name": "stderr",
     "output_type": "stream",
     "text": [
      "\r",
      "100%|█████████████████████████████████████████████████████| 4/4 [00:00<00:00,  7.61it/s]"
     ]
    },
    {
     "name": "stderr",
     "output_type": "stream",
     "text": [
      "\r",
      "100%|█████████████████████████████████████████████████████| 4/4 [00:00<00:00,  8.17it/s]"
     ]
    },
    {
     "name": "stdout",
     "output_type": "stream",
     "text": [
      "Loaded..\n",
      "['Ocn-MadangLagoonPapuaNewGuinea.Kuhnert.2001', 'MD98_2181.Stott.2007', 'Ant-WAIS-Divide.Severinghaus.2012', 'Nunalleq.Ledger.2018']\n"
     ]
    },
    {
     "name": "stderr",
     "output_type": "stream",
     "text": [
      "\n"
     ]
    }
   ],
   "source": [
    "from pylipd.lipd import LiPD\n",
    "\n",
    "lipd = LiPD()\n",
    "lipd.load([\n",
    "    \"../examples/data/Ocn-MadangLagoonPapuaNewGuinea.Kuhnert.2001.lpd\",\n",
    "    \"../examples/data/MD98_2181.Stott.2007.lpd\",\n",
    "    \"../examples/data/Ant-WAIS-Divide.Severinghaus.2012.lpd\",\n",
    "    \"https://lipdverse.org/data/LCf20b99dfe8d78840ca60dfb1f832b9ec/1_0_1/Nunalleq.Ledger.2018.lpd\"\n",
    "])\n",
    "\n",
    "print(lipd.get_all_dataset_names())"
   ]
  },
  {
   "cell_type": "code",
   "execution_count": 15,
   "id": "d9c9e652",
   "metadata": {
    "execution": {
     "iopub.execute_input": "2023-05-18T03:51:48.973846Z",
     "iopub.status.busy": "2023-05-18T03:51:48.973594Z",
     "iopub.status.idle": "2023-05-18T03:51:50.384084Z",
     "shell.execute_reply": "2023-05-18T03:51:50.383320Z"
    }
   },
   "outputs": [
    {
     "name": "stdout",
     "output_type": "stream",
     "text": [
      "Loading 4 LiPD files\n"
     ]
    },
    {
     "name": "stderr",
     "output_type": "stream",
     "text": [
      "\r",
      "  0%|                                                             | 0/4 [00:00<?, ?it/s]"
     ]
    },
    {
     "name": "stderr",
     "output_type": "stream",
     "text": [
      "\r",
      " 50%|██████████████████████████▌                          | 2/4 [00:01<00:01,  1.50it/s]"
     ]
    },
    {
     "name": "stderr",
     "output_type": "stream",
     "text": [
      "\r",
      "100%|█████████████████████████████████████████████████████| 4/4 [00:01<00:00,  2.86it/s]"
     ]
    },
    {
     "name": "stdout",
     "output_type": "stream",
     "text": [
      "Loaded..\n",
      "['Ant-WAIS-Divide.Severinghaus.2012', 'ODP846.Lawrence.2006', 'MD98_2181.Stott.2007', 'Ocn-MadangLagoonPapuaNewGuinea.Kuhnert.2001']\n"
     ]
    },
    {
     "name": "stderr",
     "output_type": "stream",
     "text": [
      "\n"
     ]
    }
   ],
   "source": [
    "from pylipd.lipd import LiPD\n",
    "\n",
    "lipd = LiPD()\n",
    "lipd.load_from_dir(\"../examples/data\")\n",
    "\n",
    "print(lipd.get_all_dataset_names())"
   ]
  },
  {
   "cell_type": "code",
   "execution_count": 16,
   "id": "f01117e5",
   "metadata": {
    "execution": {
     "iopub.execute_input": "2023-05-18T03:51:50.387539Z",
     "iopub.status.busy": "2023-05-18T03:51:50.387188Z",
     "iopub.status.idle": "2023-05-18T03:51:51.533731Z",
     "shell.execute_reply": "2023-05-18T03:51:51.533005Z"
    }
   },
   "outputs": [
    {
     "name": "stdout",
     "output_type": "stream",
     "text": [
      "Caching datasets from remote endpoint..\n",
      "Making remote query to endpoint: https://linkedearth.graphdb.mint.isi.edu/repositories/LiPDVerse2\n"
     ]
    },
    {
     "name": "stdout",
     "output_type": "stream",
     "text": [
      "Done..\n",
      "['Ocn-MadangLagoonPapuaNewGuinea.Kuhnert.2001', 'MD98_2181.Stott.2007', 'Ant-WAIS-Divide.Severinghaus.2012']\n"
     ]
    }
   ],
   "source": [
    "from pylipd.lipd import LiPD\n",
    "\n",
    "# Fetch LiPD data from remote RDF Graph\n",
    "lipd_remote = LiPD()\n",
    "lipd_remote.set_endpoint(\"https://linkedearth.graphdb.mint.isi.edu/repositories/LiPDVerse2\")\n",
    "lipd_remote.load_remote_datasets([\"Ocn-MadangLagoonPapuaNewGuinea.Kuhnert.2001\", \"MD98_2181.Stott.2007\", \"Ant-WAIS-Divide.Severinghaus.2012\"])\n",
    "print(lipd_remote.get_all_dataset_names())"
   ]
  },
  {
   "cell_type": "code",
   "execution_count": 17,
   "id": "c08f46ea",
   "metadata": {
    "execution": {
     "iopub.execute_input": "2023-05-18T03:51:51.537250Z",
     "iopub.status.busy": "2023-05-18T03:51:51.536993Z",
     "iopub.status.idle": "2023-05-18T03:51:51.622006Z",
     "shell.execute_reply": "2023-05-18T03:51:51.620905Z"
    }
   },
   "outputs": [
    {
     "name": "stdout",
     "output_type": "stream",
     "text": [
      "Loading 2 LiPD files\n"
     ]
    },
    {
     "name": "stderr",
     "output_type": "stream",
     "text": [
      "\r",
      "  0%|                                                             | 0/2 [00:00<?, ?it/s]"
     ]
    },
    {
     "name": "stderr",
     "output_type": "stream",
     "text": [
      "\r",
      "100%|█████████████████████████████████████████████████████| 2/2 [00:00<00:00, 32.38it/s]"
     ]
    },
    {
     "name": "stdout",
     "output_type": "stream",
     "text": [
      "Loaded..\n",
      "Loaded datasets: ['Ocn-MadangLagoonPapuaNewGuinea.Kuhnert.2001', 'MD98_2181.Stott.2007']\n",
      "Loaded datasets after pop: ['MD98_2181.Stott.2007']\n",
      "Popped dataset: ['Ocn-MadangLagoonPapuaNewGuinea.Kuhnert.2001']\n"
     ]
    },
    {
     "name": "stderr",
     "output_type": "stream",
     "text": [
      "\n"
     ]
    }
   ],
   "source": [
    "from pylipd.lipd import LiPD\n",
    "\n",
    "# Load local files\n",
    "lipd = LiPD()\n",
    "lipd.load([\n",
    "    \"../examples/data/Ocn-MadangLagoonPapuaNewGuinea.Kuhnert.2001.lpd\",\n",
    "    \"../examples/data/MD98_2181.Stott.2007.lpd\"\n",
    "])\n",
    "all_datasets = lipd.get_all_dataset_names()\n",
    "print(\"Loaded datasets: \" + str(all_datasets))\n",
    "popped = lipd.pop(all_datasets[0])\n",
    "print(\"Loaded datasets after pop: \" + str(lipd.get_all_dataset_names()))\n",
    "print(\"Popped dataset: \" + str(popped.get_all_dataset_names()))"
   ]
  },
  {
   "cell_type": "code",
   "execution_count": 18,
   "id": "04c9a18f",
   "metadata": {
    "execution": {
     "iopub.execute_input": "2023-05-18T03:51:51.625723Z",
     "iopub.status.busy": "2023-05-18T03:51:51.625452Z",
     "iopub.status.idle": "2023-05-18T03:51:51.780894Z",
     "shell.execute_reply": "2023-05-18T03:51:51.779936Z"
    }
   },
   "outputs": [
    {
     "name": "stdout",
     "output_type": "stream",
     "text": [
      "Loading 2 LiPD files\n"
     ]
    },
    {
     "name": "stderr",
     "output_type": "stream",
     "text": [
      "\r",
      "  0%|                                                             | 0/2 [00:00<?, ?it/s]"
     ]
    },
    {
     "name": "stderr",
     "output_type": "stream",
     "text": [
      "\r",
      "100%|█████████████████████████████████████████████████████| 2/2 [00:00<00:00, 14.34it/s]"
     ]
    },
    {
     "name": "stderr",
     "output_type": "stream",
     "text": [
      "\r",
      "100%|█████████████████████████████████████████████████████| 2/2 [00:00<00:00, 14.27it/s]"
     ]
    },
    {
     "name": "stdout",
     "output_type": "stream",
     "text": [
      "Loaded..\n",
      "Loaded datasets: ['Ocn-MadangLagoonPapuaNewGuinea.Kuhnert.2001', 'MD98_2181.Stott.2007']\n",
      "Loaded datasets after remove: ['MD98_2181.Stott.2007']\n"
     ]
    },
    {
     "name": "stderr",
     "output_type": "stream",
     "text": [
      "\n"
     ]
    }
   ],
   "source": [
    "from pylipd.lipd import LiPD\n",
    "\n",
    "# Load local files\n",
    "lipd = LiPD()\n",
    "lipd.load([\n",
    "    \"../examples/data/Ocn-MadangLagoonPapuaNewGuinea.Kuhnert.2001.lpd\",\n",
    "    \"../examples/data/MD98_2181.Stott.2007.lpd\"\n",
    "])\n",
    "all_datasets = lipd.get_all_dataset_names()\n",
    "print(\"Loaded datasets: \" + str(all_datasets))\n",
    "lipd.remove(all_datasets[0])\n",
    "print(\"Loaded datasets after remove: \" + str(lipd.get_all_dataset_names()))"
   ]
  },
  {
   "cell_type": "code",
   "execution_count": 19,
   "id": "deeb4354",
   "metadata": {
    "execution": {
     "iopub.execute_input": "2023-05-18T03:51:51.784469Z",
     "iopub.status.busy": "2023-05-18T03:51:51.784167Z",
     "iopub.status.idle": "2023-05-18T03:51:53.546157Z",
     "shell.execute_reply": "2023-05-18T03:51:53.545120Z"
    }
   },
   "outputs": [
    {
     "name": "stdout",
     "output_type": "stream",
     "text": [
      "Loading 1 LiPD files\n"
     ]
    },
    {
     "name": "stderr",
     "output_type": "stream",
     "text": [
      "\r",
      "  0%|                                                             | 0/1 [00:00<?, ?it/s]"
     ]
    },
    {
     "name": "stderr",
     "output_type": "stream",
     "text": [
      "\r",
      "100%|█████████████████████████████████████████████████████| 1/1 [00:01<00:00,  1.37s/it]"
     ]
    },
    {
     "name": "stderr",
     "output_type": "stream",
     "text": [
      "\r",
      "100%|█████████████████████████████████████████████████████| 1/1 [00:01<00:00,  1.37s/it]"
     ]
    },
    {
     "name": "stderr",
     "output_type": "stream",
     "text": [
      "\n"
     ]
    },
    {
     "name": "stdout",
     "output_type": "stream",
     "text": [
      "Loaded..\n",
      "Creating LiPD Series...\n",
      "- Extracting dataset subgraphs\n"
     ]
    },
    {
     "name": "stderr",
     "output_type": "stream",
     "text": [
      "\r",
      "  0%|                                                             | 0/1 [00:00<?, ?it/s]"
     ]
    },
    {
     "name": "stderr",
     "output_type": "stream",
     "text": [
      "\r",
      "100%|█████████████████████████████████████████████████████| 1/1 [00:00<00:00, 71.29it/s]"
     ]
    },
    {
     "name": "stderr",
     "output_type": "stream",
     "text": [
      "\n"
     ]
    },
    {
     "name": "stdout",
     "output_type": "stream",
     "text": [
      "- Extracting variable subgraphs\n"
     ]
    },
    {
     "name": "stderr",
     "output_type": "stream",
     "text": [
      "\r",
      "  0%|                                                             | 0/1 [00:00<?, ?it/s]"
     ]
    },
    {
     "name": "stderr",
     "output_type": "stream",
     "text": [
      "\r",
      "100%|█████████████████████████████████████████████████████| 1/1 [00:00<00:00,  2.80it/s]"
     ]
    },
    {
     "name": "stderr",
     "output_type": "stream",
     "text": [
      "\r",
      "100%|█████████████████████████████████████████████████████| 1/1 [00:00<00:00,  2.79it/s]"
     ]
    },
    {
     "name": "stdout",
     "output_type": "stream",
     "text": [
      "Done..\n"
     ]
    },
    {
     "name": "stderr",
     "output_type": "stream",
     "text": [
      "\n"
     ]
    }
   ],
   "source": [
    "from pylipd.lipd import LiPD\n",
    "\n",
    "lipd = LiPD()\n",
    "lipd.load([\n",
    "    \"../examples/data/ODP846.Lawrence.2006.lpd\"\n",
    "])\n",
    "\n",
    "S = lipd.to_lipd_series()"
   ]
  },
  {
   "cell_type": "code",
   "execution_count": 20,
   "id": "9f2cae7d",
   "metadata": {
    "execution": {
     "iopub.execute_input": "2023-05-18T03:51:53.549608Z",
     "iopub.status.busy": "2023-05-18T03:51:53.549364Z",
     "iopub.status.idle": "2023-05-18T03:51:54.452630Z",
     "shell.execute_reply": "2023-05-18T03:51:54.451788Z"
    }
   },
   "outputs": [
    {
     "name": "stdout",
     "output_type": "stream",
     "text": [
      "Loading 1 LiPD files\n"
     ]
    },
    {
     "name": "stderr",
     "output_type": "stream",
     "text": [
      "\r",
      "  0%|                                                             | 0/1 [00:00<?, ?it/s]"
     ]
    },
    {
     "name": "stderr",
     "output_type": "stream",
     "text": [
      "\r",
      "100%|█████████████████████████████████████████████████████| 1/1 [00:00<00:00,  4.75it/s]"
     ]
    },
    {
     "name": "stderr",
     "output_type": "stream",
     "text": [
      "\r",
      "100%|█████████████████████████████████████████████████████| 1/1 [00:00<00:00,  4.73it/s]"
     ]
    },
    {
     "name": "stderr",
     "output_type": "stream",
     "text": [
      "\n"
     ]
    },
    {
     "name": "stdout",
     "output_type": "stream",
     "text": [
      "Loaded..\n",
      "Creating LiPD Series...\n",
      "- Extracting dataset subgraphs\n"
     ]
    },
    {
     "name": "stderr",
     "output_type": "stream",
     "text": [
      "\r",
      "  0%|                                                             | 0/1 [00:00<?, ?it/s]"
     ]
    },
    {
     "name": "stderr",
     "output_type": "stream",
     "text": [
      "\r",
      "100%|█████████████████████████████████████████████████████| 1/1 [00:00<00:00, 53.03it/s]"
     ]
    },
    {
     "name": "stderr",
     "output_type": "stream",
     "text": [
      "\n"
     ]
    },
    {
     "name": "stdout",
     "output_type": "stream",
     "text": [
      "- Extracting variable subgraphs\n"
     ]
    },
    {
     "name": "stderr",
     "output_type": "stream",
     "text": [
      "\r",
      "  0%|                                                             | 0/1 [00:00<?, ?it/s]"
     ]
    },
    {
     "name": "stderr",
     "output_type": "stream",
     "text": [
      "\r",
      "100%|█████████████████████████████████████████████████████| 1/1 [00:00<00:00,  1.52it/s]"
     ]
    },
    {
     "name": "stderr",
     "output_type": "stream",
     "text": [
      "\r",
      "100%|█████████████████████████████████████████████████████| 1/1 [00:00<00:00,  1.52it/s]"
     ]
    },
    {
     "name": "stdout",
     "output_type": "stream",
     "text": [
      "Done..\n"
     ]
    },
    {
     "name": "stderr",
     "output_type": "stream",
     "text": [
      "\n"
     ]
    }
   ],
   "source": [
    "from pylipd.lipd_series import LiPDSeries\n",
    "\n",
    "lipd = LiPD()\n",
    "lipd.load([\"https://lipdverse.org/data/LCf20b99dfe8d78840ca60dfb1f832b9ec/1_0_1//Nunalleq.Ledger.2018.lpd\"])\n",
    "lipd_series = lipd.to_lipd_series()"
   ]
  },
  {
   "cell_type": "code",
   "execution_count": 21,
   "id": "17e7ded1",
   "metadata": {
    "execution": {
     "iopub.execute_input": "2023-05-18T03:51:54.455933Z",
     "iopub.status.busy": "2023-05-18T03:51:54.455667Z",
     "iopub.status.idle": "2023-05-18T03:51:57.069581Z",
     "shell.execute_reply": "2023-05-18T03:51:57.068636Z"
    }
   },
   "outputs": [
    {
     "name": "stdout",
     "output_type": "stream",
     "text": [
      "Loading 31 LiPD files\n"
     ]
    },
    {
     "name": "stderr",
     "output_type": "stream",
     "text": [
      "\r",
      "  0%|                                                            | 0/31 [00:00<?, ?it/s]"
     ]
    },
    {
     "name": "stderr",
     "output_type": "stream",
     "text": [
      "\r",
      " 19%|██████████                                          | 6/31 [00:00<00:00, 55.85it/s]"
     ]
    },
    {
     "name": "stderr",
     "output_type": "stream",
     "text": [
      "\r",
      " 42%|█████████████████████▍                             | 13/31 [00:00<00:00, 59.95it/s]"
     ]
    },
    {
     "name": "stderr",
     "output_type": "stream",
     "text": [
      "\r",
      " 61%|███████████████████████████████▎                   | 19/31 [00:00<00:00, 59.59it/s]"
     ]
    },
    {
     "name": "stderr",
     "output_type": "stream",
     "text": [
      "\r",
      " 84%|██████████████████████████████████████████▊        | 26/31 [00:00<00:00, 49.69it/s]"
     ]
    },
    {
     "name": "stderr",
     "output_type": "stream",
     "text": [
      "\r",
      "100%|███████████████████████████████████████████████████| 31/31 [00:00<00:00, 53.24it/s]"
     ]
    },
    {
     "name": "stderr",
     "output_type": "stream",
     "text": [
      "\n"
     ]
    },
    {
     "name": "stdout",
     "output_type": "stream",
     "text": [
      "Loaded..\n",
      "Creating LiPD Series...\n",
      "- Extracting dataset subgraphs\n"
     ]
    },
    {
     "name": "stderr",
     "output_type": "stream",
     "text": [
      "\r",
      "  0%|                                                            | 0/31 [00:00<?, ?it/s]"
     ]
    },
    {
     "name": "stderr",
     "output_type": "stream",
     "text": [
      "\r",
      "100%|██████████████████████████████████████████████████| 31/31 [00:00<00:00, 309.18it/s]"
     ]
    },
    {
     "name": "stderr",
     "output_type": "stream",
     "text": [
      "\r",
      "100%|██████████████████████████████████████████████████| 31/31 [00:00<00:00, 303.26it/s]"
     ]
    },
    {
     "name": "stderr",
     "output_type": "stream",
     "text": [
      "\n"
     ]
    },
    {
     "name": "stdout",
     "output_type": "stream",
     "text": [
      "- Extracting variable subgraphs\n"
     ]
    },
    {
     "name": "stderr",
     "output_type": "stream",
     "text": [
      "\r",
      "  0%|                                                            | 0/31 [00:00<?, ?it/s]"
     ]
    },
    {
     "name": "stderr",
     "output_type": "stream",
     "text": [
      "\r",
      "  6%|███▎                                                | 2/31 [00:00<00:02, 13.13it/s]"
     ]
    },
    {
     "name": "stderr",
     "output_type": "stream",
     "text": [
      "\r",
      " 13%|██████▋                                             | 4/31 [00:00<00:01, 16.19it/s]"
     ]
    },
    {
     "name": "stderr",
     "output_type": "stream",
     "text": [
      "\r",
      " 19%|██████████                                          | 6/31 [00:00<00:01, 15.66it/s]"
     ]
    },
    {
     "name": "stderr",
     "output_type": "stream",
     "text": [
      "\r",
      " 26%|█████████████▍                                      | 8/31 [00:00<00:01, 16.66it/s]"
     ]
    },
    {
     "name": "stderr",
     "output_type": "stream",
     "text": [
      "\r",
      " 32%|████████████████▍                                  | 10/31 [00:00<00:01, 16.84it/s]"
     ]
    },
    {
     "name": "stderr",
     "output_type": "stream",
     "text": [
      "\r",
      " 39%|███████████████████▋                               | 12/31 [00:00<00:01, 17.74it/s]"
     ]
    },
    {
     "name": "stderr",
     "output_type": "stream",
     "text": [
      "\r",
      " 45%|███████████████████████                            | 14/31 [00:00<00:00, 17.99it/s]"
     ]
    },
    {
     "name": "stderr",
     "output_type": "stream",
     "text": [
      "\r",
      " 55%|███████████████████████████▉                       | 17/31 [00:01<00:00, 14.69it/s]"
     ]
    },
    {
     "name": "stderr",
     "output_type": "stream",
     "text": [
      "\r",
      " 61%|███████████████████████████████▎                   | 19/31 [00:01<00:00, 14.99it/s]"
     ]
    },
    {
     "name": "stderr",
     "output_type": "stream",
     "text": [
      "\r",
      " 68%|██████████████████████████████████▌                | 21/31 [00:01<00:00, 15.43it/s]"
     ]
    },
    {
     "name": "stderr",
     "output_type": "stream",
     "text": [
      "\r",
      " 74%|█████████████████████████████████████▊             | 23/31 [00:01<00:00, 16.20it/s]"
     ]
    },
    {
     "name": "stderr",
     "output_type": "stream",
     "text": [
      "\r",
      " 81%|█████████████████████████████████████████▏         | 25/31 [00:01<00:00, 16.85it/s]"
     ]
    },
    {
     "name": "stderr",
     "output_type": "stream",
     "text": [
      "\r",
      " 87%|████████████████████████████████████████████▍      | 27/31 [00:01<00:00, 15.83it/s]"
     ]
    },
    {
     "name": "stderr",
     "output_type": "stream",
     "text": [
      "\r",
      " 94%|███████████████████████████████████████████████▋   | 29/31 [00:01<00:00, 16.71it/s]"
     ]
    },
    {
     "name": "stderr",
     "output_type": "stream",
     "text": [
      "\r",
      "100%|███████████████████████████████████████████████████| 31/31 [00:01<00:00, 17.18it/s]"
     ]
    },
    {
     "name": "stderr",
     "output_type": "stream",
     "text": [
      "\r",
      "100%|███████████████████████████████████████████████████| 31/31 [00:01<00:00, 16.31it/s]"
     ]
    },
    {
     "name": "stdout",
     "output_type": "stream",
     "text": [
      "Done..\n",
      "                                                  uri             varid   \n",
      "0   http://linked.earth/lipd/Arc-Tornetrask.Melvin...        Arc_012mxd  \\\n",
      "1   http://linked.earth/lipd/Arc-Tornetrask.Melvin...  mxdSampleDensity   \n",
      "2   http://linked.earth/lipd/Arc-Tornetrask.Melvin...       PYTVDYC36EJ   \n",
      "3   http://linked.earth/lipd/Arc-Tornetrask.Melvin...           Arc_012   \n",
      "4   http://linked.earth/lipd/Eur-Tallinn.Tarand.20...           Eur_027   \n",
      "..                                                ...               ...   \n",
      "68  http://linked.earth/lipd/Eur-LakeSilvaplana.La...           Eur_003   \n",
      "69  http://linked.earth/lipd/Eur-MaritimeFrenchAlp...       PYTAQC8W7JI   \n",
      "70  http://linked.earth/lipd/Eur-MaritimeFrenchAlp...           Eur_019   \n",
      "71  http://linked.earth/lipd/Arc-Tjeggelvas.Bjorkl...           Arc_059   \n",
      "72  http://linked.earth/lipd/Arc-Tjeggelvas.Bjorkl...       PYTNM1ZY9M4   \n",
      "\n",
      "          varname  \n",
      "0     temperature  \n",
      "1   sampleDensity  \n",
      "2            year  \n",
      "3     temperature  \n",
      "4       JulianDay  \n",
      "..            ...  \n",
      "68    temperature  \n",
      "69           year  \n",
      "70          trsgi  \n",
      "71        density  \n",
      "72           year  \n",
      "\n",
      "[73 rows x 3 columns]\n"
     ]
    },
    {
     "name": "stderr",
     "output_type": "stream",
     "text": [
      "\n"
     ]
    }
   ],
   "source": [
    "from pylipd.utils.dataset import load_dir\n",
    "\n",
    "lipd = load_dir()\n",
    "S = lipd.to_lipd_series()\n",
    "df = S.get_all_variables()\n",
    "\n",
    "print(df)"
   ]
  },
  {
   "cell_type": "code",
   "execution_count": 22,
   "id": "dc1c3364",
   "metadata": {
    "execution": {
     "iopub.execute_input": "2023-05-18T03:51:57.073127Z",
     "iopub.status.busy": "2023-05-18T03:51:57.072796Z",
     "iopub.status.idle": "2023-05-18T03:51:57.981845Z",
     "shell.execute_reply": "2023-05-18T03:51:57.980988Z"
    }
   },
   "outputs": [
    {
     "name": "stdout",
     "output_type": "stream",
     "text": [
      "Loading 1 LiPD files\n"
     ]
    },
    {
     "name": "stderr",
     "output_type": "stream",
     "text": [
      "\r",
      "  0%|                                                             | 0/1 [00:00<?, ?it/s]"
     ]
    },
    {
     "name": "stderr",
     "output_type": "stream",
     "text": [
      "\r",
      "100%|█████████████████████████████████████████████████████| 1/1 [00:00<00:00,  3.59it/s]"
     ]
    },
    {
     "name": "stderr",
     "output_type": "stream",
     "text": [
      "\r",
      "100%|█████████████████████████████████████████████████████| 1/1 [00:00<00:00,  3.58it/s]"
     ]
    },
    {
     "name": "stderr",
     "output_type": "stream",
     "text": [
      "\n"
     ]
    },
    {
     "name": "stdout",
     "output_type": "stream",
     "text": [
      "Loaded..\n",
      "Creating LiPD Series...\n",
      "- Extracting dataset subgraphs\n"
     ]
    },
    {
     "name": "stderr",
     "output_type": "stream",
     "text": [
      "\r",
      "  0%|                                                             | 0/1 [00:00<?, ?it/s]"
     ]
    },
    {
     "name": "stderr",
     "output_type": "stream",
     "text": [
      "\r",
      "100%|█████████████████████████████████████████████████████| 1/1 [00:00<00:00, 55.78it/s]"
     ]
    },
    {
     "name": "stderr",
     "output_type": "stream",
     "text": [
      "\n"
     ]
    },
    {
     "name": "stdout",
     "output_type": "stream",
     "text": [
      "- Extracting variable subgraphs\n"
     ]
    },
    {
     "name": "stderr",
     "output_type": "stream",
     "text": [
      "\r",
      "  0%|                                                             | 0/1 [00:00<?, ?it/s]"
     ]
    },
    {
     "name": "stderr",
     "output_type": "stream",
     "text": [
      "\r",
      "100%|█████████████████████████████████████████████████████| 1/1 [00:00<00:00,  1.68it/s]"
     ]
    },
    {
     "name": "stderr",
     "output_type": "stream",
     "text": [
      "\r",
      "100%|█████████████████████████████████████████████████████| 1/1 [00:00<00:00,  1.68it/s]"
     ]
    },
    {
     "name": "stdout",
     "output_type": "stream",
     "text": [
      "Done..\n"
     ]
    },
    {
     "name": "stderr",
     "output_type": "stream",
     "text": [
      "\n"
     ]
    }
   ],
   "source": [
    "from pylipd.lipd_series import LiPDSeries\n",
    "\n",
    "lipd = LiPD()\n",
    "lipd.load([\"https://lipdverse.org/data/LCf20b99dfe8d78840ca60dfb1f832b9ec/1_0_1//Nunalleq.Ledger.2018.lpd\"])\n",
    "lipd_series = lipd.to_lipd_series()"
   ]
  }
 ],
 "metadata": {
  "kernelspec": {
   "display_name": "Python 3 (ipykernel)",
   "language": "python",
   "name": "python3"
  },
  "language_info": {
   "codemirror_mode": {
    "name": "ipython",
    "version": 3
   },
   "file_extension": ".py",
   "mimetype": "text/x-python",
   "name": "python",
   "nbconvert_exporter": "python",
   "pygments_lexer": "ipython3",
   "version": "3.10.8"
  }
 },
 "nbformat": 4,
 "nbformat_minor": 5
}